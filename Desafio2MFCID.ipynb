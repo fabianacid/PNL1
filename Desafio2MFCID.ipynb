{
  "cells": [
    {
      "cell_type": "markdown",
      "metadata": {
        "id": "sZd5yLnnHOK0"
      },
      "source": [
        "<img src=\"https://github.com/hernancontigiani/ceia_memorias_especializacion/raw/master/Figures/logoFIUBA.jpg\" width=\"500\" align=\"center\">\n",
        "\n",
        "\n",
        "# Procesamiento de lenguaje natural\n",
        "## Custom embedddings con Gensim\n",
        "\n"
      ]
    },
    {
      "cell_type": "markdown",
      "source": [
        "#Desafio 2"
      ],
      "metadata": {
        "id": "VxZg1aEP21qj"
      }
    },
    {
      "cell_type": "markdown",
      "source": [
        "##Alumna: Maria Fabiana Cid"
      ],
      "metadata": {
        "id": "AHquuCCG24yS"
      }
    },
    {
      "cell_type": "markdown",
      "source": [
        "Crear sus propios vectores con Gensim basado en lo visto en clase con otro dataset.\n",
        "Probar términos de interés y explicar similitudes en el espacio de embeddings (sacar conclusiones entre palabras similitudes y diferencias).\n",
        "Graficarlos.\n",
        "Obtener conclusiones."
      ],
      "metadata": {
        "id": "XCtIn6qm20oK"
      }
    },
    {
      "cell_type": "markdown",
      "source": [
        "### 1. Adecuación de las librerias necesarias y compatibles"
      ],
      "metadata": {
        "id": "QnxQbTEgX_fZ"
      }
    },
    {
      "cell_type": "code",
      "source": [
        "!pip uninstall scipy -y\n"
      ],
      "metadata": {
        "colab": {
          "base_uri": "https://localhost:8080/"
        },
        "id": "D6WIhH1Usgmw",
        "outputId": "b58f955e-4069-47cc-caee-315280ded804"
      },
      "execution_count": 3,
      "outputs": [
        {
          "output_type": "stream",
          "name": "stdout",
          "text": [
            "Found existing installation: scipy 1.15.3\n",
            "Uninstalling scipy-1.15.3:\n",
            "  Successfully uninstalled scipy-1.15.3\n"
          ]
        }
      ]
    },
    {
      "cell_type": "code",
      "source": [
        "!pip install scipy==1.9.3\n",
        "\n"
      ],
      "metadata": {
        "colab": {
          "base_uri": "https://localhost:8080/",
          "height": 582
        },
        "id": "Pg5DX4eCslU7",
        "outputId": "3b4167d6-942b-4203-b8dc-122525a64300"
      },
      "execution_count": 4,
      "outputs": [
        {
          "output_type": "stream",
          "name": "stdout",
          "text": [
            "Collecting scipy==1.9.3\n",
            "  Downloading scipy-1.9.3-cp311-cp311-manylinux_2_17_x86_64.manylinux2014_x86_64.whl.metadata (58 kB)\n",
            "\u001b[?25l     \u001b[90m━━━━━━━━━━━━━━━━━━━━━━━━━━━━━━━━━━━━━━━━\u001b[0m \u001b[32m0.0/58.4 kB\u001b[0m \u001b[31m?\u001b[0m eta \u001b[36m-:--:--\u001b[0m\r\u001b[2K     \u001b[90m━━━━━━━━━━━━━━━━━━━━━━━━━━━━━━━━━━━━━━━━\u001b[0m \u001b[32m58.4/58.4 kB\u001b[0m \u001b[31m4.1 MB/s\u001b[0m eta \u001b[36m0:00:00\u001b[0m\n",
            "\u001b[?25hCollecting numpy<1.26.0,>=1.18.5 (from scipy==1.9.3)\n",
            "  Downloading numpy-1.25.2-cp311-cp311-manylinux_2_17_x86_64.manylinux2014_x86_64.whl.metadata (5.6 kB)\n",
            "Downloading scipy-1.9.3-cp311-cp311-manylinux_2_17_x86_64.manylinux2014_x86_64.whl (33.4 MB)\n",
            "\u001b[2K   \u001b[90m━━━━━━━━━━━━━━━━━━━━━━━━━━━━━━━━━━━━━━━━\u001b[0m \u001b[32m33.4/33.4 MB\u001b[0m \u001b[31m24.1 MB/s\u001b[0m eta \u001b[36m0:00:00\u001b[0m\n",
            "\u001b[?25hDownloading numpy-1.25.2-cp311-cp311-manylinux_2_17_x86_64.manylinux2014_x86_64.whl (18.2 MB)\n",
            "\u001b[2K   \u001b[90m━━━━━━━━━━━━━━━━━━━━━━━━━━━━━━━━━━━━━━━━\u001b[0m \u001b[32m18.2/18.2 MB\u001b[0m \u001b[31m29.8 MB/s\u001b[0m eta \u001b[36m0:00:00\u001b[0m\n",
            "\u001b[?25hInstalling collected packages: numpy, scipy\n",
            "  Attempting uninstall: numpy\n",
            "    Found existing installation: numpy 2.0.2\n",
            "    Uninstalling numpy-2.0.2:\n",
            "      Successfully uninstalled numpy-2.0.2\n",
            "\u001b[31mERROR: pip's dependency resolver does not currently take into account all the packages that are installed. This behaviour is the source of the following dependency conflicts.\n",
            "cvxpy 1.6.5 requires scipy>=1.11.0, but you have scipy 1.9.3 which is incompatible.\n",
            "jaxlib 0.5.1 requires scipy>=1.11.1, but you have scipy 1.9.3 which is incompatible.\n",
            "jax 0.5.2 requires scipy>=1.11.1, but you have scipy 1.9.3 which is incompatible.\n",
            "tensorflow 2.18.0 requires numpy<2.1.0,>=1.26.0, but you have numpy 1.25.2 which is incompatible.\n",
            "stumpy 1.13.0 requires scipy>=1.10, but you have scipy 1.9.3 which is incompatible.\n",
            "blosc2 3.3.2 requires numpy>=1.26, but you have numpy 1.25.2 which is incompatible.\n",
            "scikit-image 0.25.2 requires scipy>=1.11.4, but you have scipy 1.9.3 which is incompatible.\n",
            "imbalanced-learn 0.13.0 requires scipy<2,>=1.10.1, but you have scipy 1.9.3 which is incompatible.\n",
            "thinc 8.3.6 requires numpy<3.0.0,>=2.0.0, but you have numpy 1.25.2 which is incompatible.\n",
            "albumentations 2.0.6 requires scipy>=1.10.0, but you have scipy 1.9.3 which is incompatible.\n",
            "tsfresh 0.21.0 requires scipy>=1.14.0; python_version >= \"3.10\", but you have scipy 1.9.3 which is incompatible.\u001b[0m\u001b[31m\n",
            "\u001b[0mSuccessfully installed numpy-1.25.2 scipy-1.9.3\n"
          ]
        },
        {
          "output_type": "display_data",
          "data": {
            "application/vnd.colab-display-data+json": {
              "pip_warning": {
                "packages": [
                  "numpy"
                ]
              },
              "id": "86b4fe6e193a44a6872ff387d3d1d1df"
            }
          },
          "metadata": {}
        }
      ]
    },
    {
      "cell_type": "code",
      "source": [
        "\n",
        "!pip install gensim==4.3.3 --quiet\n"
      ],
      "metadata": {
        "id": "xaPv776ppshB",
        "colab": {
          "base_uri": "https://localhost:8080/"
        },
        "outputId": "da5adc30-0fca-43ed-96a9-afdf20bf4f87"
      },
      "execution_count": 1,
      "outputs": [
        {
          "output_type": "stream",
          "name": "stdout",
          "text": [
            "\u001b[?25l   \u001b[90m━━━━━━━━━━━━━━━━━━━━━━━━━━━━━━━━━━━━━━━━\u001b[0m \u001b[32m0.0/26.7 MB\u001b[0m \u001b[31m?\u001b[0m eta \u001b[36m-:--:--\u001b[0m\r\u001b[2K   \u001b[91m━━\u001b[0m\u001b[90m╺\u001b[0m\u001b[90m━━━━━━━━━━━━━━━━━━━━━━━━━━━━━━━━━━━━━\u001b[0m \u001b[32m1.3/26.7 MB\u001b[0m \u001b[31m40.2 MB/s\u001b[0m eta \u001b[36m0:00:01\u001b[0m\r\u001b[2K   \u001b[91m━━━━━━━━━━━\u001b[0m\u001b[90m╺\u001b[0m\u001b[90m━━━━━━━━━━━━━━━━━━━━━━━━━━━━\u001b[0m \u001b[32m7.5/26.7 MB\u001b[0m \u001b[31m109.5 MB/s\u001b[0m eta \u001b[36m0:00:01\u001b[0m\r\u001b[2K   \u001b[91m━━━━━━━━━━━━━━━━━━━━━\u001b[0m\u001b[91m╸\u001b[0m\u001b[90m━━━━━━━━━━━━━━━━━━\u001b[0m \u001b[32m14.5/26.7 MB\u001b[0m \u001b[31m195.5 MB/s\u001b[0m eta \u001b[36m0:00:01\u001b[0m\r\u001b[2K   \u001b[91m━━━━━━━━━━━━━━━━━━━━━━━━━━━━━━━\u001b[0m\u001b[90m╺\u001b[0m\u001b[90m━━━━━━━━\u001b[0m \u001b[32m21.0/26.7 MB\u001b[0m \u001b[31m193.7 MB/s\u001b[0m eta \u001b[36m0:00:01\u001b[0m\r\u001b[2K   \u001b[91m━━━━━━━━━━━━━━━━━━━━━━━━━━━━━━━━━━━━━━━\u001b[0m\u001b[91m╸\u001b[0m \u001b[32m26.7/26.7 MB\u001b[0m \u001b[31m202.4 MB/s\u001b[0m eta \u001b[36m0:00:01\u001b[0m\r\u001b[2K   \u001b[91m━━━━━━━━━━━━━━━━━━━━━━━━━━━━━━━━━━━━━━━\u001b[0m\u001b[91m╸\u001b[0m \u001b[32m26.7/26.7 MB\u001b[0m \u001b[31m202.4 MB/s\u001b[0m eta \u001b[36m0:00:01\u001b[0m\r\u001b[2K   \u001b[91m━━━━━━━━━━━━━━━━━━━━━━━━━━━━━━━━━━━━━━━\u001b[0m\u001b[91m╸\u001b[0m \u001b[32m26.7/26.7 MB\u001b[0m \u001b[31m202.4 MB/s\u001b[0m eta \u001b[36m0:00:01\u001b[0m\r\u001b[2K   \u001b[90m━━━━━━━━━━━━━━━━━━━━━━━━━━━━━━━━━━━━━━━━\u001b[0m \u001b[32m26.7/26.7 MB\u001b[0m \u001b[31m75.4 MB/s\u001b[0m eta \u001b[36m0:00:00\u001b[0m\n",
            "\u001b[?25h"
          ]
        }
      ]
    },
    {
      "cell_type": "code",
      "source": [
        "import numpy as np\n",
        "print(np.__version__)\n"
      ],
      "metadata": {
        "colab": {
          "base_uri": "https://localhost:8080/"
        },
        "id": "ozuBG0xGr__q",
        "outputId": "ead81fbd-c12a-41ee-f691-e9dec32ccfc6"
      },
      "execution_count": 2,
      "outputs": [
        {
          "output_type": "stream",
          "name": "stdout",
          "text": [
            "1.25.2\n"
          ]
        }
      ]
    },
    {
      "cell_type": "code",
      "source": [
        "import scipy\n",
        "print(scipy.__version__)\n"
      ],
      "metadata": {
        "colab": {
          "base_uri": "https://localhost:8080/"
        },
        "id": "lm2tns57sE3Y",
        "outputId": "fed9f31f-e50b-40f4-a363-a190ee43750e"
      },
      "execution_count": 3,
      "outputs": [
        {
          "output_type": "stream",
          "name": "stdout",
          "text": [
            "1.9.3\n"
          ]
        }
      ]
    },
    {
      "cell_type": "code",
      "source": [
        "!python --version"
      ],
      "metadata": {
        "colab": {
          "base_uri": "https://localhost:8080/"
        },
        "id": "mnv7FLZNr4t4",
        "outputId": "2d69e290-c9e0-48d6-84bf-a54b3c613ff8"
      },
      "execution_count": 4,
      "outputs": [
        {
          "output_type": "stream",
          "name": "stdout",
          "text": [
            "Python 3.11.12\n"
          ]
        }
      ]
    },
    {
      "cell_type": "code",
      "execution_count": 5,
      "metadata": {
        "id": "lFToQs5FK5uZ"
      },
      "outputs": [],
      "source": [
        "import pandas as pd\n",
        "import matplotlib.pyplot as plt\n",
        "import seaborn as sns\n",
        "import os\n",
        "import multiprocessing\n",
        "from gensim.models import Word2Vec"
      ]
    },
    {
      "cell_type": "markdown",
      "metadata": {
        "id": "g07zJxG7H9vG"
      },
      "source": [
        "### 2. Datos\n",
        "####Utilizaremos como dataset el texto del libro \"El Arte de la Guerra\" obtenido de la página https://www.textos.info/\n",
        "El pdf descargado del libro \"El Arte de la Guerra\" lo guardo en mi drive."
      ]
    },
    {
      "cell_type": "markdown",
      "source": [
        "Instalamos la librería Pymupdgf para:\n",
        "\n",
        "Leer, analizar y extraer contenido de archivos PDF.\n",
        "\n",
        "Extraer texto, imágenes, metadatos y estructuras de documentos.\n",
        "\n",
        "Modificar PDFs (añadir texto, imágenes, anotar, etc.)."
      ],
      "metadata": {
        "id": "ZHoIfXEy30Ds"
      }
    },
    {
      "cell_type": "code",
      "source": [
        "# Instalar la librería necesaria\n",
        "!pip install --quiet pymupdf"
      ],
      "metadata": {
        "id": "CU4xWP2ZScXq",
        "colab": {
          "base_uri": "https://localhost:8080/"
        },
        "outputId": "d6689de1-4c2a-418b-e730-10e2ef7297cf"
      },
      "execution_count": 6,
      "outputs": [
        {
          "output_type": "stream",
          "name": "stdout",
          "text": [
            "\u001b[2K   \u001b[90m━━━━━━━━━━━━━━━━━━━━━━━━━━━━━━━━━━━━━━━━\u001b[0m \u001b[32m20.0/20.0 MB\u001b[0m \u001b[31m39.2 MB/s\u001b[0m eta \u001b[36m0:00:00\u001b[0m\n",
            "\u001b[?25h"
          ]
        }
      ]
    },
    {
      "cell_type": "code",
      "source": [
        "\n",
        "# Montar Google Drive\n",
        "from google.colab import drive\n",
        "drive.mount('/content/drive')\n"
      ],
      "metadata": {
        "colab": {
          "base_uri": "https://localhost:8080/"
        },
        "id": "-PcE2p4GRTkh",
        "outputId": "c58fab5d-bd6e-4235-edfe-de9448c352ce"
      },
      "execution_count": 7,
      "outputs": [
        {
          "output_type": "stream",
          "name": "stdout",
          "text": [
            "Mounted at /content/drive\n"
          ]
        }
      ]
    },
    {
      "cell_type": "code",
      "source": [
        "import fitz  # PyMuPDF\n"
      ],
      "metadata": {
        "id": "TuqaYmvUR8KS"
      },
      "execution_count": 8,
      "outputs": []
    },
    {
      "cell_type": "markdown",
      "source": [
        "Convertimos el libro descargado en pdf a TXT para que sea más facil el trabajo"
      ],
      "metadata": {
        "id": "JcWBN6Mc4s7D"
      }
    },
    {
      "cell_type": "code",
      "source": [
        "\n",
        "# Ruta al archivo PDF\n",
        "pdf_path = '/content/drive/MyDrive/El Arte de la Guerra.pdf'\n",
        "\n",
        "# Ruta donde guardar el TXT\n",
        "txt_path = '/content/drive/MyDrive/El Arte de la Guerra.txt'\n",
        "\n",
        "# Abrir el PDF y extraer texto\n",
        "doc = fitz.open(pdf_path)\n",
        "text = ''\n",
        "for page in doc:\n",
        "    text += page.get_text()\n",
        "doc.close()\n",
        "\n",
        "# Guardar texto en .txt\n",
        "with open(txt_path, 'w', encoding='utf-8') as f:\n",
        "    f.write(text)\n",
        "\n",
        "print(f'✅ Convertido: {os.path.basename(pdf_path)} → {os.path.basename(txt_path)}')\n"
      ],
      "metadata": {
        "colab": {
          "base_uri": "https://localhost:8080/"
        },
        "id": "pPBMtJxHS2zK",
        "outputId": "216946ed-cfb4-4e63-fcc9-99ef7f9caa92"
      },
      "execution_count": 9,
      "outputs": [
        {
          "output_type": "stream",
          "name": "stdout",
          "text": [
            "✅ Convertido: El Arte de la Guerra.pdf → El Arte de la Guerra.txt\n"
          ]
        }
      ]
    },
    {
      "cell_type": "code",
      "source": [
        "file_path = '/content/drive/My Drive/El Arte de la Guerra.txt'"
      ],
      "metadata": {
        "id": "4danBNpyvpv5"
      },
      "execution_count": 10,
      "outputs": []
    },
    {
      "cell_type": "markdown",
      "source": [
        "Verificamos si un archivo está disponible antes de abrirlo."
      ],
      "metadata": {
        "id": "U0Vk2JT_5KUq"
      }
    },
    {
      "cell_type": "code",
      "source": [
        "\n",
        "print(os.path.exists(file_path))\n"
      ],
      "metadata": {
        "colab": {
          "base_uri": "https://localhost:8080/"
        },
        "id": "UBOexLnHwEui",
        "outputId": "8958071d-0b55-4e59-d9a5-9fb5662a0232"
      },
      "execution_count": 11,
      "outputs": [
        {
          "output_type": "stream",
          "name": "stdout",
          "text": [
            "True\n"
          ]
        }
      ]
    },
    {
      "cell_type": "code",
      "source": [
        "\n",
        "# Leer el archivo y limpiar los saltos de línea\n",
        "with open(file_path, 'r') as file:\n",
        "    lines = [line.strip() for line in file.readlines()]  # .strip() quita \\n y espacios\n",
        "\n",
        "# Crear el DataFrame\n",
        "df = pd.DataFrame(lines, columns=[\"Text\"])\n",
        "\n",
        "# Mostrar las primeras 5 filas limpias\n",
        "print(\"Primeras líneas del archivo:\")\n",
        "print(df.head())\n",
        "\n",
        "# 🔍 Filtro: buscar líneas que contengan una palabra clave (ejemplo: \"sabio\")\n",
        "palabra_clave = \"sabio\"\n",
        "df_filtrado = df[df[\"Text\"].str.contains(palabra_clave, case=False)]\n",
        "\n",
        "# Mostrar resultados filtrados\n",
        "print(f\"\\nLíneas que contienen la palabra '{palabra_clave}':\")\n",
        "print(df_filtrado)\n"
      ],
      "metadata": {
        "colab": {
          "base_uri": "https://localhost:8080/"
        },
        "id": "1sy5K54l5pTi",
        "outputId": "fb7da973-3969-4585-df72-3030046252d6"
      },
      "execution_count": 12,
      "outputs": [
        {
          "output_type": "stream",
          "name": "stdout",
          "text": [
            "Primeras líneas del archivo:\n",
            "                         Text\n",
            "0        El Arte de la Guerra\n",
            "1                     Sun Tzu\n",
            "2                 textos.info\n",
            "3  Biblioteca digital abierta\n",
            "4                           1\n",
            "\n",
            "Líneas que contienen la palabra 'sabio':\n",
            "                                                   Text\n",
            "49                 ¿Qué dirigente es más sabio y capaz?\n",
            "99    tengas consejeros sabios, al final no podrás h...\n",
            "779   El beneficio y el daño son interdependientes, ...\n",
            "1454  gobierno inteligente y a un mando militar sabi...\n",
            "1503  Así, sólo un gobernante brillante o un general...\n"
          ]
        }
      ]
    },
    {
      "cell_type": "code",
      "source": [
        "with open(file_path, 'r') as file:\n",
        "    lines = file.readlines()\n",
        "\n",
        "df = pd.DataFrame(lines, columns=[\"Text\"])\n",
        "df.head()\n"
      ],
      "metadata": {
        "colab": {
          "base_uri": "https://localhost:8080/",
          "height": 206
        },
        "id": "4itnJDjXvnTC",
        "outputId": "0a40c41a-929a-4844-d85b-cf7fb6e41f0c"
      },
      "execution_count": 13,
      "outputs": [
        {
          "output_type": "execute_result",
          "data": {
            "text/plain": [
              "                           Text\n",
              "0        El Arte de la Guerra\\n\n",
              "1                     Sun Tzu\\n\n",
              "2                 textos.info\\n\n",
              "3  Biblioteca digital abierta\\n\n",
              "4                           1\\n"
            ],
            "text/html": [
              "\n",
              "  <div id=\"df-18b6be8a-15f1-4352-b544-ecc897376712\" class=\"colab-df-container\">\n",
              "    <div>\n",
              "<style scoped>\n",
              "    .dataframe tbody tr th:only-of-type {\n",
              "        vertical-align: middle;\n",
              "    }\n",
              "\n",
              "    .dataframe tbody tr th {\n",
              "        vertical-align: top;\n",
              "    }\n",
              "\n",
              "    .dataframe thead th {\n",
              "        text-align: right;\n",
              "    }\n",
              "</style>\n",
              "<table border=\"1\" class=\"dataframe\">\n",
              "  <thead>\n",
              "    <tr style=\"text-align: right;\">\n",
              "      <th></th>\n",
              "      <th>Text</th>\n",
              "    </tr>\n",
              "  </thead>\n",
              "  <tbody>\n",
              "    <tr>\n",
              "      <th>0</th>\n",
              "      <td>El Arte de la Guerra\\n</td>\n",
              "    </tr>\n",
              "    <tr>\n",
              "      <th>1</th>\n",
              "      <td>Sun Tzu\\n</td>\n",
              "    </tr>\n",
              "    <tr>\n",
              "      <th>2</th>\n",
              "      <td>textos.info\\n</td>\n",
              "    </tr>\n",
              "    <tr>\n",
              "      <th>3</th>\n",
              "      <td>Biblioteca digital abierta\\n</td>\n",
              "    </tr>\n",
              "    <tr>\n",
              "      <th>4</th>\n",
              "      <td>1\\n</td>\n",
              "    </tr>\n",
              "  </tbody>\n",
              "</table>\n",
              "</div>\n",
              "    <div class=\"colab-df-buttons\">\n",
              "\n",
              "  <div class=\"colab-df-container\">\n",
              "    <button class=\"colab-df-convert\" onclick=\"convertToInteractive('df-18b6be8a-15f1-4352-b544-ecc897376712')\"\n",
              "            title=\"Convert this dataframe to an interactive table.\"\n",
              "            style=\"display:none;\">\n",
              "\n",
              "  <svg xmlns=\"http://www.w3.org/2000/svg\" height=\"24px\" viewBox=\"0 -960 960 960\">\n",
              "    <path d=\"M120-120v-720h720v720H120Zm60-500h600v-160H180v160Zm220 220h160v-160H400v160Zm0 220h160v-160H400v160ZM180-400h160v-160H180v160Zm440 0h160v-160H620v160ZM180-180h160v-160H180v160Zm440 0h160v-160H620v160Z\"/>\n",
              "  </svg>\n",
              "    </button>\n",
              "\n",
              "  <style>\n",
              "    .colab-df-container {\n",
              "      display:flex;\n",
              "      gap: 12px;\n",
              "    }\n",
              "\n",
              "    .colab-df-convert {\n",
              "      background-color: #E8F0FE;\n",
              "      border: none;\n",
              "      border-radius: 50%;\n",
              "      cursor: pointer;\n",
              "      display: none;\n",
              "      fill: #1967D2;\n",
              "      height: 32px;\n",
              "      padding: 0 0 0 0;\n",
              "      width: 32px;\n",
              "    }\n",
              "\n",
              "    .colab-df-convert:hover {\n",
              "      background-color: #E2EBFA;\n",
              "      box-shadow: 0px 1px 2px rgba(60, 64, 67, 0.3), 0px 1px 3px 1px rgba(60, 64, 67, 0.15);\n",
              "      fill: #174EA6;\n",
              "    }\n",
              "\n",
              "    .colab-df-buttons div {\n",
              "      margin-bottom: 4px;\n",
              "    }\n",
              "\n",
              "    [theme=dark] .colab-df-convert {\n",
              "      background-color: #3B4455;\n",
              "      fill: #D2E3FC;\n",
              "    }\n",
              "\n",
              "    [theme=dark] .colab-df-convert:hover {\n",
              "      background-color: #434B5C;\n",
              "      box-shadow: 0px 1px 3px 1px rgba(0, 0, 0, 0.15);\n",
              "      filter: drop-shadow(0px 1px 2px rgba(0, 0, 0, 0.3));\n",
              "      fill: #FFFFFF;\n",
              "    }\n",
              "  </style>\n",
              "\n",
              "    <script>\n",
              "      const buttonEl =\n",
              "        document.querySelector('#df-18b6be8a-15f1-4352-b544-ecc897376712 button.colab-df-convert');\n",
              "      buttonEl.style.display =\n",
              "        google.colab.kernel.accessAllowed ? 'block' : 'none';\n",
              "\n",
              "      async function convertToInteractive(key) {\n",
              "        const element = document.querySelector('#df-18b6be8a-15f1-4352-b544-ecc897376712');\n",
              "        const dataTable =\n",
              "          await google.colab.kernel.invokeFunction('convertToInteractive',\n",
              "                                                    [key], {});\n",
              "        if (!dataTable) return;\n",
              "\n",
              "        const docLinkHtml = 'Like what you see? Visit the ' +\n",
              "          '<a target=\"_blank\" href=https://colab.research.google.com/notebooks/data_table.ipynb>data table notebook</a>'\n",
              "          + ' to learn more about interactive tables.';\n",
              "        element.innerHTML = '';\n",
              "        dataTable['output_type'] = 'display_data';\n",
              "        await google.colab.output.renderOutput(dataTable, element);\n",
              "        const docLink = document.createElement('div');\n",
              "        docLink.innerHTML = docLinkHtml;\n",
              "        element.appendChild(docLink);\n",
              "      }\n",
              "    </script>\n",
              "  </div>\n",
              "\n",
              "\n",
              "    <div id=\"df-32ea6ced-2df7-487f-a338-e131e5093334\">\n",
              "      <button class=\"colab-df-quickchart\" onclick=\"quickchart('df-32ea6ced-2df7-487f-a338-e131e5093334')\"\n",
              "                title=\"Suggest charts\"\n",
              "                style=\"display:none;\">\n",
              "\n",
              "<svg xmlns=\"http://www.w3.org/2000/svg\" height=\"24px\"viewBox=\"0 0 24 24\"\n",
              "     width=\"24px\">\n",
              "    <g>\n",
              "        <path d=\"M19 3H5c-1.1 0-2 .9-2 2v14c0 1.1.9 2 2 2h14c1.1 0 2-.9 2-2V5c0-1.1-.9-2-2-2zM9 17H7v-7h2v7zm4 0h-2V7h2v10zm4 0h-2v-4h2v4z\"/>\n",
              "    </g>\n",
              "</svg>\n",
              "      </button>\n",
              "\n",
              "<style>\n",
              "  .colab-df-quickchart {\n",
              "      --bg-color: #E8F0FE;\n",
              "      --fill-color: #1967D2;\n",
              "      --hover-bg-color: #E2EBFA;\n",
              "      --hover-fill-color: #174EA6;\n",
              "      --disabled-fill-color: #AAA;\n",
              "      --disabled-bg-color: #DDD;\n",
              "  }\n",
              "\n",
              "  [theme=dark] .colab-df-quickchart {\n",
              "      --bg-color: #3B4455;\n",
              "      --fill-color: #D2E3FC;\n",
              "      --hover-bg-color: #434B5C;\n",
              "      --hover-fill-color: #FFFFFF;\n",
              "      --disabled-bg-color: #3B4455;\n",
              "      --disabled-fill-color: #666;\n",
              "  }\n",
              "\n",
              "  .colab-df-quickchart {\n",
              "    background-color: var(--bg-color);\n",
              "    border: none;\n",
              "    border-radius: 50%;\n",
              "    cursor: pointer;\n",
              "    display: none;\n",
              "    fill: var(--fill-color);\n",
              "    height: 32px;\n",
              "    padding: 0;\n",
              "    width: 32px;\n",
              "  }\n",
              "\n",
              "  .colab-df-quickchart:hover {\n",
              "    background-color: var(--hover-bg-color);\n",
              "    box-shadow: 0 1px 2px rgba(60, 64, 67, 0.3), 0 1px 3px 1px rgba(60, 64, 67, 0.15);\n",
              "    fill: var(--button-hover-fill-color);\n",
              "  }\n",
              "\n",
              "  .colab-df-quickchart-complete:disabled,\n",
              "  .colab-df-quickchart-complete:disabled:hover {\n",
              "    background-color: var(--disabled-bg-color);\n",
              "    fill: var(--disabled-fill-color);\n",
              "    box-shadow: none;\n",
              "  }\n",
              "\n",
              "  .colab-df-spinner {\n",
              "    border: 2px solid var(--fill-color);\n",
              "    border-color: transparent;\n",
              "    border-bottom-color: var(--fill-color);\n",
              "    animation:\n",
              "      spin 1s steps(1) infinite;\n",
              "  }\n",
              "\n",
              "  @keyframes spin {\n",
              "    0% {\n",
              "      border-color: transparent;\n",
              "      border-bottom-color: var(--fill-color);\n",
              "      border-left-color: var(--fill-color);\n",
              "    }\n",
              "    20% {\n",
              "      border-color: transparent;\n",
              "      border-left-color: var(--fill-color);\n",
              "      border-top-color: var(--fill-color);\n",
              "    }\n",
              "    30% {\n",
              "      border-color: transparent;\n",
              "      border-left-color: var(--fill-color);\n",
              "      border-top-color: var(--fill-color);\n",
              "      border-right-color: var(--fill-color);\n",
              "    }\n",
              "    40% {\n",
              "      border-color: transparent;\n",
              "      border-right-color: var(--fill-color);\n",
              "      border-top-color: var(--fill-color);\n",
              "    }\n",
              "    60% {\n",
              "      border-color: transparent;\n",
              "      border-right-color: var(--fill-color);\n",
              "    }\n",
              "    80% {\n",
              "      border-color: transparent;\n",
              "      border-right-color: var(--fill-color);\n",
              "      border-bottom-color: var(--fill-color);\n",
              "    }\n",
              "    90% {\n",
              "      border-color: transparent;\n",
              "      border-bottom-color: var(--fill-color);\n",
              "    }\n",
              "  }\n",
              "</style>\n",
              "\n",
              "      <script>\n",
              "        async function quickchart(key) {\n",
              "          const quickchartButtonEl =\n",
              "            document.querySelector('#' + key + ' button');\n",
              "          quickchartButtonEl.disabled = true;  // To prevent multiple clicks.\n",
              "          quickchartButtonEl.classList.add('colab-df-spinner');\n",
              "          try {\n",
              "            const charts = await google.colab.kernel.invokeFunction(\n",
              "                'suggestCharts', [key], {});\n",
              "          } catch (error) {\n",
              "            console.error('Error during call to suggestCharts:', error);\n",
              "          }\n",
              "          quickchartButtonEl.classList.remove('colab-df-spinner');\n",
              "          quickchartButtonEl.classList.add('colab-df-quickchart-complete');\n",
              "        }\n",
              "        (() => {\n",
              "          let quickchartButtonEl =\n",
              "            document.querySelector('#df-32ea6ced-2df7-487f-a338-e131e5093334 button');\n",
              "          quickchartButtonEl.style.display =\n",
              "            google.colab.kernel.accessAllowed ? 'block' : 'none';\n",
              "        })();\n",
              "      </script>\n",
              "    </div>\n",
              "\n",
              "    </div>\n",
              "  </div>\n"
            ],
            "application/vnd.google.colaboratory.intrinsic+json": {
              "type": "dataframe",
              "variable_name": "df",
              "summary": "{\n  \"name\": \"df\",\n  \"rows\": 1585,\n  \"fields\": [\n    {\n      \"column\": \"Text\",\n      \"properties\": {\n        \"dtype\": \"string\",\n        \"num_unique_values\": 1574,\n        \"samples\": [\n          \"terreno. Si\\n\",\n          \"ven una buena oportunidad, son como tigres, en caso contrario cierran sus \\n\",\n          \"necesario para estar all\\u00ed mucho tiempo. En terrenos desfavorables, ya que \\n\"\n        ],\n        \"semantic_type\": \"\",\n        \"description\": \"\"\n      }\n    }\n  ]\n}"
            }
          },
          "metadata": {},
          "execution_count": 13
        }
      ]
    },
    {
      "cell_type": "code",
      "execution_count": 14,
      "metadata": {
        "id": "LEpKubK9XzXN",
        "colab": {
          "base_uri": "https://localhost:8080/"
        },
        "outputId": "6b44411f-d477-4ae7-e30e-58495c541f9f"
      },
      "outputs": [
        {
          "output_type": "stream",
          "name": "stdout",
          "text": [
            "Cantidad de documentos: 1585\n"
          ]
        }
      ],
      "source": [
        "print(\"Cantidad de documentos:\", df.shape[0])"
      ]
    },
    {
      "cell_type": "markdown",
      "metadata": {
        "id": "ab94qaFlrA1G"
      },
      "source": [
        "### 3. Preprocesamiento"
      ]
    },
    {
      "cell_type": "markdown",
      "source": [
        "Preparar texto. Reducir el \"ruido\" del lenguaje y conservar solo las palabras más informativas."
      ],
      "metadata": {
        "id": "FKHIV502WCFU"
      }
    },
    {
      "cell_type": "code",
      "source": [
        "from tensorflow.keras.preprocessing.text import text_to_word_sequence\n",
        "\n",
        "stop_words = list(set([\n",
        "    # Artículos, conectores y palabras comunes\n",
        "    'el', 'la', 'los', 'las', 'un', 'una', 'unos', 'unas', 'que', 'en', 'a', 'se', 'no', 'es',\n",
        "    'si', 'así', 'te', 'ni', 'tu', 'para', 'cuando', 'por', 'lo', 'de', 'del', 'como', 'muchas',\n",
        "    'según', 'y', 'tras', 'incluso', 'le', 'o', 'más', 'pero', 'donde', 'esto', 'todo', 'éste',\n",
        "    'eso', 'ha', 'sino', 'tanto', 'cada', 'c', 'han', 'también', 'ningún', 'antes', 'al',\n",
        "    'durante', 'ésta','muy', 'sí','uno' ,'dos', 'pues', 'cómo'\n",
        "\n",
        "    # Pronombres personales\n",
        "    'yo', 'tú', 'vos', 'él', 'ella', 'nosotros', 'nosotras', 'ustedes', 'ellos', 'ellas',\n",
        "\n",
        "    # Pronombres objeto y reflexivos\n",
        "    'me', 'nos', 'os', 'lo', 'la', 'los', 'las', 'le', 'les',\n",
        "\n",
        "    # Pronombres posesivos\n",
        "    'mi', 'mis', 'tus', 'su', 'sus', 'nuestro', 'nuestra', 'nuestros', 'nuestras',\n",
        "    'vuestro', 'vuestra', 'vuestros', 'vuestras',\n",
        "\n",
        "    # Pronombres demostrativos\n",
        "    'este', 'esta', 'estos', 'estas', 'ese', 'esa', 'esos', 'esas', 'aquel', 'aquella', 'aquellos', 'aquellas',\n",
        "\n",
        "    # Pronombres relativos\n",
        "    'quien', 'quienes', 'cuyo', 'cuya', 'cuyos', 'cuyas',\n",
        "\n",
        "    # Pronombres interrogativos y exclamativos\n",
        "    'qué', 'quién', 'quiénes', 'cuál', 'cuáles', 'cuánto', 'cuánta', 'cuántos', 'cuántas',\n",
        "\n",
        "    # Pronombres indefinidos\n",
        "    'algo', 'alguien', 'alguno', 'alguna', 'algunos', 'algunas', 'nada', 'nadie', 'ninguno', 'ninguna',\n",
        "\n",
        "    # Conectores\n",
        "    'además', 'aunque', 'sin embargo', 'entonces', 'mientras', 'luego', 'después', 'ahora',\n",
        "    'porque', 'ya que', 'puesto que', 'debido a', 'por lo tanto', 'por consiguiente', 'en cambio',\n",
        "    'a pesar de', 'por ejemplo', 'incluso', 'asimismo', 'por ende', 'en efecto', 'en resumen',\n",
        "    'finalmente', 'en conclusión', 'por otro lado', 'de hecho'\n",
        "]))\n",
        "\n",
        "\n",
        "sentence_tokens = []\n",
        "# Recorrer todas las filas y transformar las oraciones en una secuencia de palabras\n",
        "for _, row in df[:None].iterrows():\n",
        "    words = text_to_word_sequence(row[0])\n",
        "    filtered_words = [word for word in words if word not in stop_words]  # Filtrar palabras vacías\n",
        "    sentence_tokens.append(filtered_words)\n",
        "\n",
        "# Mostrar el resultado\n",
        "print(sentence_tokens[:2])\n"
      ],
      "metadata": {
        "colab": {
          "base_uri": "https://localhost:8080/"
        },
        "id": "fvuCkSxD_LpA",
        "outputId": "5ee3fabd-19e4-4dc9-ff3a-f5630c20e0c7"
      },
      "execution_count": 36,
      "outputs": [
        {
          "output_type": "stream",
          "name": "stdout",
          "text": [
            "[['arte', 'guerra'], ['sun', 'tzu']]\n"
          ]
        },
        {
          "output_type": "stream",
          "name": "stderr",
          "text": [
            "<ipython-input-36-3340c9ed6310>:44: FutureWarning:\n",
            "\n",
            "Series.__getitem__ treating keys as positions is deprecated. In a future version, integer keys will always be treated as labels (consistent with DataFrame behavior). To access a value by position, use `ser.iloc[pos]`\n",
            "\n"
          ]
        }
      ]
    },
    {
      "cell_type": "markdown",
      "metadata": {
        "id": "BaXV6nlHr5Aa"
      },
      "source": [
        "### 4. Crear los vectores (word2vec)"
      ]
    },
    {
      "cell_type": "code",
      "execution_count": 37,
      "metadata": {
        "id": "OSb0v7h8r7hK"
      },
      "outputs": [],
      "source": [
        "from gensim.models.callbacks import CallbackAny2Vec\n",
        "# Durante el entrenamiento gensim por defecto no informa el \"loss\" en cada época\n",
        "# Sobrecargamos el callback para poder tener esta información\n",
        "class callback(CallbackAny2Vec):\n",
        "    \"\"\"\n",
        "    Callback to print loss after each epoch\n",
        "    \"\"\"\n",
        "    def __init__(self):\n",
        "        self.epoch = 0\n",
        "\n",
        "    def on_epoch_end(self, model):\n",
        "        loss = model.get_latest_training_loss()\n",
        "        if self.epoch == 0:\n",
        "            print('Loss after epoch {}: {}'.format(self.epoch, loss))\n",
        "        else:\n",
        "            print('Loss after epoch {}: {}'.format(self.epoch, loss- self.loss_previous_step))\n",
        "        self.epoch += 1\n",
        "        self.loss_previous_step = loss"
      ]
    },
    {
      "cell_type": "code",
      "execution_count": 38,
      "metadata": {
        "id": "i0wnDdv9sJ47"
      },
      "outputs": [],
      "source": [
        "# Crearmos el modelo generador de vectores\n",
        "# En este caso utilizaremos la estructura modelo Skipgram\n",
        "w2v_model = Word2Vec(min_count=5,    # frecuencia mínima de palabra para incluirla en el vocabulario\n",
        "                     window=2,       # cant de palabras antes y desp de la predicha\n",
        "                     vector_size=300,       # dimensionalidad de los vectores\n",
        "                     negative=20,    # cantidad de negative samples... 0 es no se usa\n",
        "                     workers=1,      # si tienen más cores pueden cambiar este valor\n",
        "                     sg=1)           # modelo 0:CBOW  1:skipgram"
      ]
    },
    {
      "cell_type": "code",
      "execution_count": 39,
      "metadata": {
        "id": "5lTt8wErsf17"
      },
      "outputs": [],
      "source": [
        "# Obtener el vocabulario con los tokens\n",
        "w2v_model.build_vocab(sentence_tokens)"
      ]
    },
    {
      "cell_type": "code",
      "execution_count": 40,
      "metadata": {
        "id": "TNc9qt4os5AT",
        "colab": {
          "base_uri": "https://localhost:8080/"
        },
        "outputId": "287b7400-3f37-49a4-bcd5-3f2f1384590e"
      },
      "outputs": [
        {
          "output_type": "stream",
          "name": "stdout",
          "text": [
            "Cantidad de docs en el corpus: 1585\n"
          ]
        }
      ],
      "source": [
        "# Cantidad de filas/docs encontradas en el corpus\n",
        "print(\"Cantidad de docs en el corpus:\", w2v_model.corpus_count)"
      ]
    },
    {
      "cell_type": "code",
      "execution_count": 41,
      "metadata": {
        "id": "idw9cHF3tSMl",
        "colab": {
          "base_uri": "https://localhost:8080/"
        },
        "outputId": "9ce5b595-d582-4f6f-c854-9b2b969c6783"
      },
      "outputs": [
        {
          "output_type": "stream",
          "name": "stdout",
          "text": [
            "Cantidad de words distintas en el corpus: 314\n"
          ]
        }
      ],
      "source": [
        "# Cantidad de words encontradas en el corpus\n",
        "print(\"Cantidad de words distintas en el corpus:\", len(w2v_model.wv.index_to_key))"
      ]
    },
    {
      "cell_type": "markdown",
      "metadata": {
        "id": "fC9mZ8DPk-UC"
      },
      "source": [
        "### 5. Entrenar embeddings"
      ]
    },
    {
      "cell_type": "code",
      "execution_count": 42,
      "metadata": {
        "id": "QSp-x0PAsq56",
        "colab": {
          "base_uri": "https://localhost:8080/"
        },
        "outputId": "5247522a-71d7-4a0f-a687-7421d3afda80"
      },
      "outputs": [
        {
          "output_type": "stream",
          "name": "stdout",
          "text": [
            "Loss after epoch 0: 58613.078125\n",
            "Loss after epoch 1: 44603.3984375\n",
            "Loss after epoch 2: 19801.0\n",
            "Loss after epoch 3: 16333.9765625\n",
            "Loss after epoch 4: 16155.890625\n",
            "Loss after epoch 5: 16294.40625\n",
            "Loss after epoch 6: 16422.453125\n",
            "Loss after epoch 7: 16139.84375\n",
            "Loss after epoch 8: 15937.640625\n",
            "Loss after epoch 9: 16079.015625\n",
            "Loss after epoch 10: 16396.5625\n",
            "Loss after epoch 11: 16169.546875\n",
            "Loss after epoch 12: 16025.84375\n",
            "Loss after epoch 13: 16163.46875\n",
            "Loss after epoch 14: 16078.34375\n",
            "Loss after epoch 15: 16195.0\n",
            "Loss after epoch 16: 16245.96875\n",
            "Loss after epoch 17: 15665.5625\n",
            "Loss after epoch 18: 15771.6875\n",
            "Loss after epoch 19: 16068.0625\n",
            "Loss after epoch 20: 16084.59375\n",
            "Loss after epoch 21: 16642.875\n",
            "Loss after epoch 22: 16856.09375\n",
            "Loss after epoch 23: 16542.3125\n",
            "Loss after epoch 24: 15773.65625\n",
            "Loss after epoch 25: 16159.34375\n",
            "Loss after epoch 26: 15848.5625\n",
            "Loss after epoch 27: 16404.25\n",
            "Loss after epoch 28: 16455.25\n",
            "Loss after epoch 29: 15891.3125\n",
            "Loss after epoch 30: 16335.0625\n",
            "Loss after epoch 31: 16625.5625\n",
            "Loss after epoch 32: 16554.0625\n",
            "Loss after epoch 33: 16181.375\n",
            "Loss after epoch 34: 16074.5625\n",
            "Loss after epoch 35: 16421.8125\n",
            "Loss after epoch 36: 16359.625\n",
            "Loss after epoch 37: 15850.5625\n",
            "Loss after epoch 38: 16025.4375\n",
            "Loss after epoch 39: 16076.9375\n",
            "Loss after epoch 40: 16294.1875\n",
            "Loss after epoch 41: 15721.1875\n",
            "Loss after epoch 42: 16070.1875\n",
            "Loss after epoch 43: 15821.875\n",
            "Loss after epoch 44: 15935.5625\n",
            "Loss after epoch 45: 15306.6875\n",
            "Loss after epoch 46: 15831.9375\n",
            "Loss after epoch 47: 15945.625\n",
            "Loss after epoch 48: 15804.8125\n",
            "Loss after epoch 49: 15835.5\n"
          ]
        },
        {
          "output_type": "execute_result",
          "data": {
            "text/plain": [
              "(142449, 400600)"
            ]
          },
          "metadata": {},
          "execution_count": 42
        }
      ],
      "source": [
        "# Entrenamos el modelo generador de vectores\n",
        "# Utilizamos nuestro callback\n",
        "w2v_model.train(sentence_tokens,\n",
        "                 total_examples=w2v_model.corpus_count,\n",
        "                 epochs=50,\n",
        "                 compute_loss = True,\n",
        "                 callbacks=[callback()]\n",
        "                 )"
      ]
    },
    {
      "cell_type": "markdown",
      "metadata": {
        "id": "ddT9NVuNlCAe"
      },
      "source": [
        "### 6 - Ensayar"
      ]
    },
    {
      "cell_type": "code",
      "execution_count": 43,
      "metadata": {
        "id": "6cHN9xGLuPEm",
        "colab": {
          "base_uri": "https://localhost:8080/"
        },
        "outputId": "b27bddd9-76fb-4b4d-889c-f49a995164f4"
      },
      "outputs": [
        {
          "output_type": "execute_result",
          "data": {
            "text/plain": [
              "[('arte', 0.9558084607124329),\n",
              " ('rey', 0.9551306962966919),\n",
              " ('caso', 0.9383078813552856),\n",
              " ('tratado', 0.936272919178009),\n",
              " ('wu', 0.9341031908988953),\n",
              " ('victorias', 0.9338752031326294),\n",
              " ('momento', 0.9334957599639893),\n",
              " ('llevar', 0.9304214119911194),\n",
              " ('resultado', 0.9250537157058716),\n",
              " ('dice', 0.924990177154541)]"
            ]
          },
          "metadata": {},
          "execution_count": 43
        }
      ],
      "source": [
        "# Palabras que MÁS se relacionan con...:\n",
        "w2v_model.wv.most_similar(positive=[\"guerra\"], topn=10)"
      ]
    },
    {
      "cell_type": "code",
      "execution_count": 44,
      "metadata": {
        "id": "47HiU5gdkdMq",
        "colab": {
          "base_uri": "https://localhost:8080/"
        },
        "outputId": "63f90e5b-d46a-474f-a510-a13572e0d5c2"
      },
      "outputs": [
        {
          "output_type": "execute_result",
          "data": {
            "text/plain": [
              "[('conoces', -0.58696049451828),\n",
              " ('quiere', -0.6288878321647644),\n",
              " ('decir', -0.6429516673088074),\n",
              " ('ti', -0.6468744874000549),\n",
              " ('demás', -0.683297872543335),\n",
              " ('hacia', -0.7249849438667297),\n",
              " ('cinco', -0.743626594543457),\n",
              " ('operaciones', -0.7528343200683594),\n",
              " ('mismo', -0.7541045546531677),\n",
              " ('clases', -0.7585919499397278)]"
            ]
          },
          "metadata": {},
          "execution_count": 44
        }
      ],
      "source": [
        "# Palabras que MENOS se relacionan con...:\n",
        "w2v_model.wv.most_similar(negative=[\"guerra\"], topn=10)"
      ]
    },
    {
      "cell_type": "code",
      "execution_count": 45,
      "metadata": {
        "id": "DT4Rvno2mD65",
        "colab": {
          "base_uri": "https://localhost:8080/"
        },
        "outputId": "3657540f-12d3-4df2-ddab-941553a62a1f"
      },
      "outputs": [
        {
          "output_type": "execute_result",
          "data": {
            "text/plain": [
              "[('dispersión', 0.9937865138053894),\n",
              " ('debe', 0.9849969148635864),\n",
              " ('entre', 0.9846242666244507),\n",
              " ('posición', 0.983004629611969),\n",
              " ('hace', 0.9813955426216125),\n",
              " ('cerca', 0.9812566041946411),\n",
              " ('pueblo', 0.9788858294487),\n",
              " ('otros', 0.9763461351394653),\n",
              " ('resultado', 0.9752551913261414),\n",
              " ('favorable', 0.9749770760536194)]"
            ]
          },
          "metadata": {},
          "execution_count": 45
        }
      ],
      "source": [
        "# Palabras que MÁS se relacionan con...:\n",
        "w2v_model.wv.most_similar(positive=[\"disciplina\"], topn=10)"
      ]
    },
    {
      "cell_type": "code",
      "execution_count": 46,
      "metadata": {
        "id": "XPLDPgzBmQXt",
        "colab": {
          "base_uri": "https://localhost:8080/"
        },
        "outputId": "cd8bba03-2ae1-4f29-ce23-54cee51beed0"
      },
      "outputs": [
        {
          "output_type": "execute_result",
          "data": {
            "text/plain": [
              "[('provisiones', 0.9913721084594727),\n",
              " ('fuerte', 0.9898176789283752),\n",
              " ('esté', 0.9876061081886292),\n",
              " ('ejército', 0.9867382645606995),\n",
              " ('confusión', 0.9861343502998352)]"
            ]
          },
          "metadata": {},
          "execution_count": 46
        }
      ],
      "source": [
        "# Palabras que MÁS se relacionan con...:\n",
        "w2v_model.wv.most_similar(positive=[\"enemigo\"], topn=5)"
      ]
    },
    {
      "cell_type": "code",
      "execution_count": 47,
      "metadata": {
        "id": "L_UvHPMMklOr",
        "colab": {
          "base_uri": "https://localhost:8080/",
          "height": 304
        },
        "outputId": "2e2141d1-628a-4450-cafd-55ab29414f95"
      },
      "outputs": [
        {
          "output_type": "error",
          "ename": "KeyError",
          "evalue": "\"Key 'nube' not present in vocabulary\"",
          "traceback": [
            "\u001b[0;31m---------------------------------------------------------------------------\u001b[0m",
            "\u001b[0;31mKeyError\u001b[0m                                  Traceback (most recent call last)",
            "\u001b[0;32m<ipython-input-47-476fd77b30ef>\u001b[0m in \u001b[0;36m<cell line: 0>\u001b[0;34m()\u001b[0m\n\u001b[1;32m      1\u001b[0m \u001b[0;31m# Ensayar con una palabra que no está en el vocabulario:\u001b[0m\u001b[0;34m\u001b[0m\u001b[0;34m\u001b[0m\u001b[0m\n\u001b[0;32m----> 2\u001b[0;31m \u001b[0mw2v_model\u001b[0m\u001b[0;34m.\u001b[0m\u001b[0mwv\u001b[0m\u001b[0;34m.\u001b[0m\u001b[0mmost_similar\u001b[0m\u001b[0;34m(\u001b[0m\u001b[0mnegative\u001b[0m\u001b[0;34m=\u001b[0m\u001b[0;34m[\u001b[0m\u001b[0;34m\"nube\"\u001b[0m\u001b[0;34m]\u001b[0m\u001b[0;34m)\u001b[0m\u001b[0;34m\u001b[0m\u001b[0;34m\u001b[0m\u001b[0m\n\u001b[0m",
            "\u001b[0;32m/usr/local/lib/python3.11/dist-packages/gensim/models/keyedvectors.py\u001b[0m in \u001b[0;36mmost_similar\u001b[0;34m(self, positive, negative, topn, clip_start, clip_end, restrict_vocab, indexer)\u001b[0m\n\u001b[1;32m    839\u001b[0m \u001b[0;34m\u001b[0m\u001b[0m\n\u001b[1;32m    840\u001b[0m         \u001b[0;31m# compute the weighted average of all keys\u001b[0m\u001b[0;34m\u001b[0m\u001b[0;34m\u001b[0m\u001b[0m\n\u001b[0;32m--> 841\u001b[0;31m         \u001b[0mmean\u001b[0m \u001b[0;34m=\u001b[0m \u001b[0mself\u001b[0m\u001b[0;34m.\u001b[0m\u001b[0mget_mean_vector\u001b[0m\u001b[0;34m(\u001b[0m\u001b[0mkeys\u001b[0m\u001b[0;34m,\u001b[0m \u001b[0mweight\u001b[0m\u001b[0;34m,\u001b[0m \u001b[0mpre_normalize\u001b[0m\u001b[0;34m=\u001b[0m\u001b[0;32mTrue\u001b[0m\u001b[0;34m,\u001b[0m \u001b[0mpost_normalize\u001b[0m\u001b[0;34m=\u001b[0m\u001b[0;32mTrue\u001b[0m\u001b[0;34m,\u001b[0m \u001b[0mignore_missing\u001b[0m\u001b[0;34m=\u001b[0m\u001b[0;32mFalse\u001b[0m\u001b[0;34m)\u001b[0m\u001b[0;34m\u001b[0m\u001b[0;34m\u001b[0m\u001b[0m\n\u001b[0m\u001b[1;32m    842\u001b[0m         all_keys = [\n\u001b[1;32m    843\u001b[0m             \u001b[0mself\u001b[0m\u001b[0;34m.\u001b[0m\u001b[0mget_index\u001b[0m\u001b[0;34m(\u001b[0m\u001b[0mkey\u001b[0m\u001b[0;34m)\u001b[0m \u001b[0;32mfor\u001b[0m \u001b[0mkey\u001b[0m \u001b[0;32min\u001b[0m \u001b[0mkeys\u001b[0m \u001b[0;32mif\u001b[0m \u001b[0misinstance\u001b[0m\u001b[0;34m(\u001b[0m\u001b[0mkey\u001b[0m\u001b[0;34m,\u001b[0m \u001b[0m_KEY_TYPES\u001b[0m\u001b[0;34m)\u001b[0m \u001b[0;32mand\u001b[0m \u001b[0mself\u001b[0m\u001b[0;34m.\u001b[0m\u001b[0mhas_index_for\u001b[0m\u001b[0;34m(\u001b[0m\u001b[0mkey\u001b[0m\u001b[0;34m)\u001b[0m\u001b[0;34m\u001b[0m\u001b[0;34m\u001b[0m\u001b[0m\n",
            "\u001b[0;32m/usr/local/lib/python3.11/dist-packages/gensim/models/keyedvectors.py\u001b[0m in \u001b[0;36mget_mean_vector\u001b[0;34m(self, keys, weights, pre_normalize, post_normalize, ignore_missing)\u001b[0m\n\u001b[1;32m    516\u001b[0m                 \u001b[0mtotal_weight\u001b[0m \u001b[0;34m+=\u001b[0m \u001b[0mabs\u001b[0m\u001b[0;34m(\u001b[0m\u001b[0mweights\u001b[0m\u001b[0;34m[\u001b[0m\u001b[0midx\u001b[0m\u001b[0;34m]\u001b[0m\u001b[0;34m)\u001b[0m\u001b[0;34m\u001b[0m\u001b[0;34m\u001b[0m\u001b[0m\n\u001b[1;32m    517\u001b[0m             \u001b[0;32melif\u001b[0m \u001b[0;32mnot\u001b[0m \u001b[0mignore_missing\u001b[0m\u001b[0;34m:\u001b[0m\u001b[0;34m\u001b[0m\u001b[0;34m\u001b[0m\u001b[0m\n\u001b[0;32m--> 518\u001b[0;31m                 \u001b[0;32mraise\u001b[0m \u001b[0mKeyError\u001b[0m\u001b[0;34m(\u001b[0m\u001b[0;34mf\"Key '{key}' not present in vocabulary\"\u001b[0m\u001b[0;34m)\u001b[0m\u001b[0;34m\u001b[0m\u001b[0;34m\u001b[0m\u001b[0m\n\u001b[0m\u001b[1;32m    519\u001b[0m \u001b[0;34m\u001b[0m\u001b[0m\n\u001b[1;32m    520\u001b[0m         \u001b[0;32mif\u001b[0m \u001b[0mtotal_weight\u001b[0m \u001b[0;34m>\u001b[0m \u001b[0;36m0\u001b[0m\u001b[0;34m:\u001b[0m\u001b[0;34m\u001b[0m\u001b[0;34m\u001b[0m\u001b[0m\n",
            "\u001b[0;31mKeyError\u001b[0m: \"Key 'nube' not present in vocabulary\""
          ]
        }
      ],
      "source": [
        "# Ensayar con una palabra que no está en el vocabulario:\n",
        "w2v_model.wv.most_similar(negative=[\"nube\"])"
      ]
    },
    {
      "cell_type": "code",
      "execution_count": 48,
      "metadata": {
        "id": "p0jJYL5JY5_e",
        "colab": {
          "base_uri": "https://localhost:8080/"
        },
        "outputId": "506ac1a4-3c7f-4590-ae6e-3b989c9284be"
      },
      "outputs": [
        {
          "output_type": "stream",
          "name": "stdout",
          "text": [
            "[ 0.03366455  0.19947991 -0.03355204 -0.01715589  0.09803902 -0.12900905\n",
            "  0.05134622  0.26677352  0.01157734 -0.14655636  0.10562631 -0.16699383\n",
            "  0.0654561  -0.02849409 -0.09019139 -0.04615823  0.09572779 -0.05655101\n",
            " -0.03143979 -0.03622947 -0.11036372 -0.07638603 -0.04083797  0.05219264\n",
            "  0.07801197 -0.02980549 -0.10827614 -0.10041489 -0.03175403 -0.01083619\n",
            "  0.02491311 -0.12939708 -0.00132855 -0.05585629 -0.09306917  0.05107591\n",
            "  0.06497268 -0.05260075  0.01932642 -0.02021016 -0.0692703   0.02701413\n",
            " -0.03000806 -0.08860569  0.22158599  0.20742072  0.18139994  0.06823985\n",
            "  0.06027056  0.0785998  -0.01379836 -0.03160435 -0.06074496  0.10674302\n",
            " -0.1030986   0.16180916  0.02902289  0.02229116 -0.02072359  0.00990518\n",
            "  0.03687481  0.06185397 -0.10362768  0.09953988  0.0147394  -0.02357672\n",
            "  0.03986721 -0.07267752 -0.09137934 -0.18502833  0.032803    0.00105312\n",
            "  0.2467944  -0.11743256 -0.10576534  0.06797838 -0.17288215  0.01579326\n",
            "  0.01365969  0.18422982 -0.04339241 -0.16902024  0.05632097  0.2848132\n",
            "  0.02362482 -0.04027513 -0.11669891  0.1552741   0.19516492  0.12173716\n",
            "  0.18112887 -0.0952643  -0.00736827  0.02273633  0.08997158  0.0849021\n",
            "  0.10819086 -0.04899304 -0.02383161  0.0105088  -0.05859864  0.0464955\n",
            "  0.16195418 -0.05840311  0.16116895 -0.15936866  0.05792508 -0.00300089\n",
            " -0.03699142  0.09843007 -0.2538483  -0.05524695  0.03924039  0.07214197\n",
            "  0.07225842  0.06067807 -0.00976395  0.0756904   0.15189958 -0.11927225\n",
            "  0.04576312  0.12472139  0.16894431  0.0113961  -0.06098128  0.07094318\n",
            "  0.10090568 -0.11990896  0.0417118   0.16967234  0.08989089  0.10756562\n",
            "  0.04920009 -0.10037486  0.04530161  0.15015051 -0.11016605 -0.17809063\n",
            " -0.11988135 -0.12363525 -0.02912789 -0.12801109  0.09462225 -0.00946421\n",
            " -0.15532178 -0.09876617 -0.1847634  -0.07687965  0.03261074 -0.07431963\n",
            "  0.09606764 -0.30172956 -0.04497279 -0.02190922  0.00078647  0.02597149\n",
            " -0.06438494 -0.00116942 -0.02994943  0.15335904  0.03434908  0.06727075\n",
            " -0.1967088   0.01878152 -0.14963096  0.00364753 -0.02419338  0.02373192\n",
            " -0.02506453  0.18706177 -0.10303319 -0.07417809  0.04936523  0.09345824\n",
            "  0.04899006  0.068768   -0.00551599 -0.23451787  0.00651166 -0.01176645\n",
            " -0.05619751  0.11068831  0.01139158 -0.12091991 -0.02096861  0.04746772\n",
            "  0.1391761   0.20039828  0.03271136 -0.24541211 -0.03444068  0.00730853\n",
            " -0.08336669 -0.10991767 -0.01029181 -0.11486177 -0.03853758 -0.10663066\n",
            "  0.16513412 -0.06629255 -0.10965335  0.0341591   0.00247981 -0.07918216\n",
            " -0.06181799  0.09770207 -0.20114996  0.06500153  0.0199219  -0.05775338\n",
            " -0.08339058 -0.19257718 -0.09920782  0.0071614   0.10282048 -0.09255824\n",
            " -0.17086776 -0.16368282 -0.1746956  -0.11962713  0.10575654 -0.00190872\n",
            " -0.12055089  0.02558526  0.00127675 -0.01819718  0.03834139 -0.05565101\n",
            " -0.01295682  0.06219531  0.09128182 -0.07899952 -0.03691254  0.1602252\n",
            "  0.01789517  0.04250104 -0.03693734  0.0260331   0.04626146 -0.22110672\n",
            " -0.11802678  0.18652387 -0.02589251 -0.08994789 -0.06030571 -0.12016171\n",
            " -0.00041068  0.1805476  -0.03078374  0.13772494 -0.08002137 -0.02701841\n",
            "  0.05031586 -0.03229289 -0.0873624  -0.1229653   0.21310733 -0.00807831\n",
            " -0.20970091 -0.10894129  0.13454778  0.192982    0.07190393 -0.27664092\n",
            " -0.20906582 -0.13152176  0.02597311  0.19961663 -0.18078797 -0.04008117\n",
            " -0.03214249  0.03995915 -0.10978396 -0.13049759  0.13193028  0.03092832\n",
            " -0.00927406  0.11313739 -0.16297378  0.0062949   0.07153188 -0.06637669\n",
            " -0.04396784 -0.06898816  0.03298784  0.05137799 -0.2549391   0.07377838\n",
            "  0.10439566  0.13153091 -0.06857525  0.13026446 -0.00466042  0.16030456\n",
            "  0.09900252  0.12165558 -0.07087804 -0.15304698  0.01066914 -0.08587968]\n"
          ]
        }
      ],
      "source": [
        "# el método `get_vector` permite obtener los vectores:\n",
        "vector_guerra = w2v_model.wv.get_vector(\"guerra\")\n",
        "print(vector_guerra)"
      ]
    },
    {
      "cell_type": "code",
      "execution_count": 49,
      "metadata": {
        "id": "re4BcdJFY5_e",
        "colab": {
          "base_uri": "https://localhost:8080/"
        },
        "outputId": "bdabfb54-e8f7-41e3-a437-eefee344eca0"
      },
      "outputs": [
        {
          "output_type": "execute_result",
          "data": {
            "text/plain": [
              "[('guerra', 1.0),\n",
              " ('arte', 0.9558084607124329),\n",
              " ('rey', 0.9551306962966919),\n",
              " ('caso', 0.9383078813552856),\n",
              " ('tratado', 0.936272919178009),\n",
              " ('wu', 0.9341031908988953),\n",
              " ('victorias', 0.9338752031326294),\n",
              " ('momento', 0.9334957599639893),\n",
              " ('llevar', 0.9304214119911194),\n",
              " ('resultado', 0.9250537157058716)]"
            ]
          },
          "metadata": {},
          "execution_count": 49
        }
      ],
      "source": [
        "# el método `most_similar` también permite comparar a partir de vectores\n",
        "w2v_model.wv.most_similar(vector_guerra)"
      ]
    },
    {
      "cell_type": "code",
      "execution_count": 50,
      "metadata": {
        "id": "tFq-jd8HY5_e",
        "colab": {
          "base_uri": "https://localhost:8080/"
        },
        "outputId": "2b475caa-1fd3-4a39-9669-f0ab5241ed68"
      },
      "outputs": [
        {
          "output_type": "execute_result",
          "data": {
            "text/plain": [
              "[('tímido', 0.9871295690536499),\n",
              " ('valiente', 0.9861152768135071),\n",
              " ('ímpetu', 0.9839007258415222),\n",
              " ('siempre', 0.9815329909324646),\n",
              " ('abierto', 0.9810523390769958),\n",
              " ('actuar', 0.9809233546257019),\n",
              " ('ataque', 0.9776528477668762),\n",
              " ('cuestión', 0.977504551410675),\n",
              " ('atacar', 0.9774413704872131),\n",
              " ('principio', 0.9763303399085999)]"
            ]
          },
          "metadata": {},
          "execution_count": 50
        }
      ],
      "source": [
        "# Palabras que MÁS se relacionan con...:\n",
        "w2v_model.wv.most_similar(positive=[\"fuerza\"], topn=10)"
      ]
    },
    {
      "cell_type": "markdown",
      "metadata": {
        "id": "_g8UVWe6lFmh"
      },
      "source": [
        "### 7. Visualizar agrupación de vectores"
      ]
    },
    {
      "cell_type": "code",
      "execution_count": 51,
      "metadata": {
        "id": "pDxEVXAivjr9"
      },
      "outputs": [],
      "source": [
        "from sklearn.decomposition import IncrementalPCA\n",
        "from sklearn.manifold import TSNE\n",
        "import numpy as np\n",
        "\n",
        "def reduce_dimensions(model, num_dimensions = 2 ):\n",
        "\n",
        "    vectors = np.asarray(model.wv.vectors)\n",
        "    labels = np.asarray(model.wv.index_to_key)\n",
        "\n",
        "    tsne = TSNE(n_components=num_dimensions, random_state=0)\n",
        "    vectors = tsne.fit_transform(vectors)\n",
        "\n",
        "    return vectors, labels"
      ]
    },
    {
      "cell_type": "code",
      "execution_count": 52,
      "metadata": {
        "id": "NCCXtDpcugmd",
        "colab": {
          "base_uri": "https://localhost:8080/",
          "height": 542
        },
        "outputId": "745d745e-eee1-474d-d072-89ff19e86bf6"
      },
      "outputs": [
        {
          "output_type": "display_data",
          "data": {
            "text/html": [
              "<html>\n",
              "<head><meta charset=\"utf-8\" /></head>\n",
              "<body>\n",
              "    <div>            <script src=\"https://cdnjs.cloudflare.com/ajax/libs/mathjax/2.7.5/MathJax.js?config=TeX-AMS-MML_SVG\"></script><script type=\"text/javascript\">if (window.MathJax && window.MathJax.Hub && window.MathJax.Hub.Config) {window.MathJax.Hub.Config({SVG: {font: \"STIX-Web\"}});}</script>                <script type=\"text/javascript\">window.PlotlyConfig = {MathJaxConfig: 'local'};</script>\n",
              "        <script charset=\"utf-8\" src=\"https://cdn.plot.ly/plotly-2.35.2.min.js\"></script>                <div id=\"c6ea1a59-75de-4565-9fb3-22fda793f37f\" class=\"plotly-graph-div\" style=\"height:525px; width:100%;\"></div>            <script type=\"text/javascript\">                                    window.PLOTLYENV=window.PLOTLYENV || {};                                    if (document.getElementById(\"c6ea1a59-75de-4565-9fb3-22fda793f37f\")) {                    Plotly.newPlot(                        \"c6ea1a59-75de-4565-9fb3-22fda793f37f\",                        [{\"hovertemplate\":\"x=%{x}\\u003cbr\\u003ey=%{y}\\u003cbr\\u003etext=%{text}\\u003cextra\\u003e\\u003c\\u002fextra\\u003e\",\"legendgroup\":\"\",\"marker\":{\"color\":\"#636efa\",\"symbol\":\"circle\"},\"mode\":\"markers+text\",\"name\":\"\",\"orientation\":\"v\",\"showlegend\":false,\"text\":[\"enemigo\",\"son\",\"terreno\",\"con\",\"tropas\",\"soldados\",\"ser\",\"puede\",\"ejército\",\"están\",\"victoria\",\"sin\",\"batalla\",\"está\",\"fuerza\",\"adversarios\",\"manera\",\"puedes\",\"general\",\"sobre\",\"pueden\",\"militares\",\"fuerzas\",\"significa\",\"hacer\",\"lugar\",\"guerra\",\"enemigos\",\"militar\",\"sun\",\"adversario\",\"sólo\",\"atacar\",\"entre\",\"territorio\",\"ti\",\"tienen\",\"debe\",\"espías\",\"sea\",\"tzu\",\"mismo\",\"ataque\",\"tiene\",\"generales\",\"planes\",\"forma\",\"contra\",\"primero\",\"estrategia\",\"fuego\",\"llama\",\"tiempo\",\"orden\",\"hay\",\"obtener\",\"conocer\",\"órdenes\",\"arte\",\"mediante\",\"hasta\",\"poder\",\"gobierno\",\"bien\",\"ejércitos\",\"mando\",\"pueblo\",\"defensa\",\"otros\",\"ganar\",\"ímpetu\",\"lucha\",\"tener\",\"terrenos\",\"agua\",\"situación\",\"ventaja\",\"conoces\",\"dice\",\"gran\",\"hace\",\"combatir\",\"demás\",\"deben\",\"estás\",\"mucho\",\"peligro\",\"hacia\",\"mundo\",\"capítulo\",\"caso\",\"posición\",\"operaciones\",\"tienes\",\"energía\",\"debes\",\"difícil\",\"recompensas\",\"luchar\",\"capaz\",\"siempre\",\"mejor\",\"existen\",\"eres\",\"consecuencia\",\"quiere\",\"haz\",\"país\",\"cinco\",\"expertos\",\"combate\",\"posible\",\"vencer\",\"camino\",\"cuestión\",\"todas\",\"oficiales\",\"desde\",\"e\",\"suministros\",\"decir\",\"guerreros\",\"formación\",\"ataca\",\"tan\",\"muerte\",\"punto\",\"sean\",\"era\",\"armas\",\"todos\",\"cómo\",\"regla\",\"alimentos\",\"evitar\",\"operación\",\"haya\",\"clases\",\"existe\",\"derrotado\",\"lejos\",\"acción\",\"información\",\"superiores\",\"cerca\",\"seguro\",\"partes\",\"disciplina\",\"ventajas\",\"mitad\",\"príncipe\",\"situaciones\",\"ventajoso\",\"abajo\",\"fuertes\",\"formaciones\",\"viento\",\"menos\",\"campo\",\"vez\",\"totalmente\",\"objetivo\",\"débiles\",\"condiciones\",\"alianzas\",\"problemas\",\"artes\",\"ataques\",\"ya\",\"personas\",\"factores\",\"utilizar\",\"frente\",\"fuerte\",\"necesidad\",\"tres\",\"retaguardia\",\"utilizan\",\"enemigas\",\"cuenta\",\"actuar\",\"trata\",\"cualquier\",\"entrar\",\"muchos\",\"necesario\",\"fácil\",\"carros\",\"beneficio\",\"mortal\",\"cabo\",\"descubrir\",\"kilómetros\",\"condición\",\"momento\",\"leyes\",\"pueda\",\"puntos\",\"provisiones\",\"desorden\"],\"x\":[2.5916736,-12.887511,9.11803,5.4033647,-12.585252,-9.798868,-17.284027,4.4459014,1.8900309,-10.1060295,1.0468806,-4.5201545,12.623184,10.168718,0.76536155,10.498223,4.350295,3.1292067,-13.691299,-6.452537,-16.23621,-13.129169,-4.1539516,0.7790471,1.130958,13.850924,-16.144144,-10.582824,-8.82639,-17.850094,2.668392,-2.004519,2.433671,7.030112,8.841665,16.374561,9.560967,5.2111917,-8.116334,-0.7937392,-17.80649,15.911336,-0.38509214,1.4847172,-11.867801,-6.8952513,1.3113321,13.537441,4.8964076,-8.354698,-10.167184,11.966303,6.064846,-0.075328305,-7.1499634,6.397068,-7.3696084,-2.414778,-15.934889,-11.153927,-2.453868,-5.9925246,-3.4741857,8.175297,-9.609646,-7.7791424,4.8722725,3.9075005,6.5793676,4.4671736,0.40264323,1.7290071,-2.026144,7.8312054,13.840594,4.939228,10.979945,16.696665,-14.376203,5.5395494,5.3523917,4.1571617,16.249554,-8.921522,9.523899,8.274402,14.114115,14.524444,-0.7602922,-7.89266,-14.884034,7.8258643,-13.306675,-1.1457143,-3.297577,4.6520267,9.920654,-1.7156003,12.39773,-0.35471871,3.6991425,-5.0948796,-11.024573,-1.8605384,-3.4189832,5.263511,12.668472,-5.1401706,-11.037703,-15.383585,6.4665413,-4.260973,-8.562964,1.9128422,-1.4639854,6.104231,-11.767792,11.401906,10.32748,6.116126,8.682022,-11.403918,10.680024,5.83467,-0.44225484,-4.022365,-3.6942136,8.74316,-16.72927,4.757704,8.140696,11.067882,-13.229051,-11.110211,12.543038,-8.694224,0.1416387,-10.996568,0.2828599,-2.5414088,10.121644,-11.11893,-7.1691976,-12.387879,8.541464,3.722851,4.6917286,7.188997,3.8109326,-1.7307093,-6.176385,-8.567216,-11.009892,14.052885,-13.945361,-0.9106974,-9.873859,9.104578,1.2562193,-11.962338,0.5535167,10.382212,-13.972561,-2.530822,1.3848215,-4.3699503,-7.26734,-11.711692,5.1403522,-2.5676749,-7.8783526,2.1872485,12.5383625,1.9711431,-4.5187297,-4.843537,12.728787,-3.1854005,8.030662,-1.4137366,-0.47889885,-3.0166686,7.3424253,6.240779,1.776661,4.49993,0.063442566,6.6142673,-3.8978364,8.767609,-12.016736,6.848663,12.469589,8.978618,-14.774829,-12.142704,-5.9550395,-14.402761,2.413923,-0.5519314],\"xaxis\":\"x\",\"y\":[-6.1848636,5.5552506,-6.327604,-0.22687727,3.0083888,1.8344865,4.1273055,0.795232,-6.953607,4.7441463,-11.718735,-12.757275,2.1339836,9.505894,8.230522,-1.6709777,0.3365638,2.2220337,8.890297,1.8507916,4.616414,10.107405,3.7890458,-0.36426252,3.2076347,1.5897231,-3.5181334,4.624332,-4.2334886,-1.3871368,0.35707706,11.248911,6.530196,10.44565,-0.7920155,1.3692509,3.227949,11.55662,8.275986,-6.676268,-1.3999251,1.4842467,2.2539732,-7.675559,5.4458666,-6.391464,-9.760772,-5.3722706,4.163319,-0.82685924,-7.252193,-1.3974674,-11.457103,3.857313,8.405703,-3.5793357,10.259194,-2.5675497,-3.6300426,-7.4189997,-7.358534,-3.3278418,1.9382129,-2.5095313,6.060791,-3.5832238,11.318525,-10.648026,12.743293,-1.3207467,8.629449,5.260701,-9.639624,-11.185135,-4.4934983,13.088996,-10.107354,1.3405129,-2.8086782,-1.7562239,12.129062,6.9205394,1.4245882,5.8111176,-8.446235,-12.288825,1.6031185,-2.6488311,-11.230543,1.3962803,-2.4127066,11.513862,10.566427,11.055487,-3.556326,3.5491884,-7.733455,-5.432243,-5.5299797,-13.550293,6.884476,2.8964167,12.259138,-12.287728,1.1903975,13.794871,5.2745714,9.238842,12.292771,-6.9179115,-3.0870008,6.3021765,-2.3812764,-4.095933,4.477254,-8.089069,1.3870909,0.010528377,-0.7105303,-13.801055,12.073896,-0.31634593,-3.9465623,-5.5080013,-13.089903,-7.9776173,-9.2219095,1.7584282,-1.7244519,-13.772686,3.378845,1.2895387,8.992904,8.160818,-5.4928617,-4.1946173,-3.0407362,12.284571,-2.0721242,1.7556677,9.55886,6.737537,-10.559809,4.949291,11.12076,-7.6069455,-6.416616,11.519792,-2.7084248,11.209132,4.8188763,5.2825584,-3.117307,-3.774432,1.7926532,1.0012444,-6.6687417,-2.954709,0.6221775,-2.5853884,1.7873324,0.9161822,1.7918272,-1.5301495,3.0883155,0.25039956,-6.854017,-7.3465548,-8.086143,4.545611,9.368539,2.0885687,4.7601886,-5.871153,-12.752644,7.5592265,6.1918035,-0.010711534,0.52509546,-9.659362,7.316157,-0.08533182,-1.0580932,1.8974144,-0.10712328,-10.612509,-8.066918,1.2001822,-2.178621,-5.7950087,-3.2151906,-0.5051524,-10.017486,0.98443705,-2.5215538,8.949821,5.7400928,1.8202453,-5.536537,3.435832],\"yaxis\":\"y\",\"type\":\"scatter\"}],                        {\"template\":{\"data\":{\"histogram2dcontour\":[{\"type\":\"histogram2dcontour\",\"colorbar\":{\"outlinewidth\":0,\"ticks\":\"\"},\"colorscale\":[[0.0,\"#0d0887\"],[0.1111111111111111,\"#46039f\"],[0.2222222222222222,\"#7201a8\"],[0.3333333333333333,\"#9c179e\"],[0.4444444444444444,\"#bd3786\"],[0.5555555555555556,\"#d8576b\"],[0.6666666666666666,\"#ed7953\"],[0.7777777777777778,\"#fb9f3a\"],[0.8888888888888888,\"#fdca26\"],[1.0,\"#f0f921\"]]}],\"choropleth\":[{\"type\":\"choropleth\",\"colorbar\":{\"outlinewidth\":0,\"ticks\":\"\"}}],\"histogram2d\":[{\"type\":\"histogram2d\",\"colorbar\":{\"outlinewidth\":0,\"ticks\":\"\"},\"colorscale\":[[0.0,\"#0d0887\"],[0.1111111111111111,\"#46039f\"],[0.2222222222222222,\"#7201a8\"],[0.3333333333333333,\"#9c179e\"],[0.4444444444444444,\"#bd3786\"],[0.5555555555555556,\"#d8576b\"],[0.6666666666666666,\"#ed7953\"],[0.7777777777777778,\"#fb9f3a\"],[0.8888888888888888,\"#fdca26\"],[1.0,\"#f0f921\"]]}],\"heatmap\":[{\"type\":\"heatmap\",\"colorbar\":{\"outlinewidth\":0,\"ticks\":\"\"},\"colorscale\":[[0.0,\"#0d0887\"],[0.1111111111111111,\"#46039f\"],[0.2222222222222222,\"#7201a8\"],[0.3333333333333333,\"#9c179e\"],[0.4444444444444444,\"#bd3786\"],[0.5555555555555556,\"#d8576b\"],[0.6666666666666666,\"#ed7953\"],[0.7777777777777778,\"#fb9f3a\"],[0.8888888888888888,\"#fdca26\"],[1.0,\"#f0f921\"]]}],\"heatmapgl\":[{\"type\":\"heatmapgl\",\"colorbar\":{\"outlinewidth\":0,\"ticks\":\"\"},\"colorscale\":[[0.0,\"#0d0887\"],[0.1111111111111111,\"#46039f\"],[0.2222222222222222,\"#7201a8\"],[0.3333333333333333,\"#9c179e\"],[0.4444444444444444,\"#bd3786\"],[0.5555555555555556,\"#d8576b\"],[0.6666666666666666,\"#ed7953\"],[0.7777777777777778,\"#fb9f3a\"],[0.8888888888888888,\"#fdca26\"],[1.0,\"#f0f921\"]]}],\"contourcarpet\":[{\"type\":\"contourcarpet\",\"colorbar\":{\"outlinewidth\":0,\"ticks\":\"\"}}],\"contour\":[{\"type\":\"contour\",\"colorbar\":{\"outlinewidth\":0,\"ticks\":\"\"},\"colorscale\":[[0.0,\"#0d0887\"],[0.1111111111111111,\"#46039f\"],[0.2222222222222222,\"#7201a8\"],[0.3333333333333333,\"#9c179e\"],[0.4444444444444444,\"#bd3786\"],[0.5555555555555556,\"#d8576b\"],[0.6666666666666666,\"#ed7953\"],[0.7777777777777778,\"#fb9f3a\"],[0.8888888888888888,\"#fdca26\"],[1.0,\"#f0f921\"]]}],\"surface\":[{\"type\":\"surface\",\"colorbar\":{\"outlinewidth\":0,\"ticks\":\"\"},\"colorscale\":[[0.0,\"#0d0887\"],[0.1111111111111111,\"#46039f\"],[0.2222222222222222,\"#7201a8\"],[0.3333333333333333,\"#9c179e\"],[0.4444444444444444,\"#bd3786\"],[0.5555555555555556,\"#d8576b\"],[0.6666666666666666,\"#ed7953\"],[0.7777777777777778,\"#fb9f3a\"],[0.8888888888888888,\"#fdca26\"],[1.0,\"#f0f921\"]]}],\"mesh3d\":[{\"type\":\"mesh3d\",\"colorbar\":{\"outlinewidth\":0,\"ticks\":\"\"}}],\"scatter\":[{\"fillpattern\":{\"fillmode\":\"overlay\",\"size\":10,\"solidity\":0.2},\"type\":\"scatter\"}],\"parcoords\":[{\"type\":\"parcoords\",\"line\":{\"colorbar\":{\"outlinewidth\":0,\"ticks\":\"\"}}}],\"scatterpolargl\":[{\"type\":\"scatterpolargl\",\"marker\":{\"colorbar\":{\"outlinewidth\":0,\"ticks\":\"\"}}}],\"bar\":[{\"error_x\":{\"color\":\"#2a3f5f\"},\"error_y\":{\"color\":\"#2a3f5f\"},\"marker\":{\"line\":{\"color\":\"#E5ECF6\",\"width\":0.5},\"pattern\":{\"fillmode\":\"overlay\",\"size\":10,\"solidity\":0.2}},\"type\":\"bar\"}],\"scattergeo\":[{\"type\":\"scattergeo\",\"marker\":{\"colorbar\":{\"outlinewidth\":0,\"ticks\":\"\"}}}],\"scatterpolar\":[{\"type\":\"scatterpolar\",\"marker\":{\"colorbar\":{\"outlinewidth\":0,\"ticks\":\"\"}}}],\"histogram\":[{\"marker\":{\"pattern\":{\"fillmode\":\"overlay\",\"size\":10,\"solidity\":0.2}},\"type\":\"histogram\"}],\"scattergl\":[{\"type\":\"scattergl\",\"marker\":{\"colorbar\":{\"outlinewidth\":0,\"ticks\":\"\"}}}],\"scatter3d\":[{\"type\":\"scatter3d\",\"line\":{\"colorbar\":{\"outlinewidth\":0,\"ticks\":\"\"}},\"marker\":{\"colorbar\":{\"outlinewidth\":0,\"ticks\":\"\"}}}],\"scattermapbox\":[{\"type\":\"scattermapbox\",\"marker\":{\"colorbar\":{\"outlinewidth\":0,\"ticks\":\"\"}}}],\"scatterternary\":[{\"type\":\"scatterternary\",\"marker\":{\"colorbar\":{\"outlinewidth\":0,\"ticks\":\"\"}}}],\"scattercarpet\":[{\"type\":\"scattercarpet\",\"marker\":{\"colorbar\":{\"outlinewidth\":0,\"ticks\":\"\"}}}],\"carpet\":[{\"aaxis\":{\"endlinecolor\":\"#2a3f5f\",\"gridcolor\":\"white\",\"linecolor\":\"white\",\"minorgridcolor\":\"white\",\"startlinecolor\":\"#2a3f5f\"},\"baxis\":{\"endlinecolor\":\"#2a3f5f\",\"gridcolor\":\"white\",\"linecolor\":\"white\",\"minorgridcolor\":\"white\",\"startlinecolor\":\"#2a3f5f\"},\"type\":\"carpet\"}],\"table\":[{\"cells\":{\"fill\":{\"color\":\"#EBF0F8\"},\"line\":{\"color\":\"white\"}},\"header\":{\"fill\":{\"color\":\"#C8D4E3\"},\"line\":{\"color\":\"white\"}},\"type\":\"table\"}],\"barpolar\":[{\"marker\":{\"line\":{\"color\":\"#E5ECF6\",\"width\":0.5},\"pattern\":{\"fillmode\":\"overlay\",\"size\":10,\"solidity\":0.2}},\"type\":\"barpolar\"}],\"pie\":[{\"automargin\":true,\"type\":\"pie\"}]},\"layout\":{\"autotypenumbers\":\"strict\",\"colorway\":[\"#636efa\",\"#EF553B\",\"#00cc96\",\"#ab63fa\",\"#FFA15A\",\"#19d3f3\",\"#FF6692\",\"#B6E880\",\"#FF97FF\",\"#FECB52\"],\"font\":{\"color\":\"#2a3f5f\"},\"hovermode\":\"closest\",\"hoverlabel\":{\"align\":\"left\"},\"paper_bgcolor\":\"white\",\"plot_bgcolor\":\"#E5ECF6\",\"polar\":{\"bgcolor\":\"#E5ECF6\",\"angularaxis\":{\"gridcolor\":\"white\",\"linecolor\":\"white\",\"ticks\":\"\"},\"radialaxis\":{\"gridcolor\":\"white\",\"linecolor\":\"white\",\"ticks\":\"\"}},\"ternary\":{\"bgcolor\":\"#E5ECF6\",\"aaxis\":{\"gridcolor\":\"white\",\"linecolor\":\"white\",\"ticks\":\"\"},\"baxis\":{\"gridcolor\":\"white\",\"linecolor\":\"white\",\"ticks\":\"\"},\"caxis\":{\"gridcolor\":\"white\",\"linecolor\":\"white\",\"ticks\":\"\"}},\"coloraxis\":{\"colorbar\":{\"outlinewidth\":0,\"ticks\":\"\"}},\"colorscale\":{\"sequential\":[[0.0,\"#0d0887\"],[0.1111111111111111,\"#46039f\"],[0.2222222222222222,\"#7201a8\"],[0.3333333333333333,\"#9c179e\"],[0.4444444444444444,\"#bd3786\"],[0.5555555555555556,\"#d8576b\"],[0.6666666666666666,\"#ed7953\"],[0.7777777777777778,\"#fb9f3a\"],[0.8888888888888888,\"#fdca26\"],[1.0,\"#f0f921\"]],\"sequentialminus\":[[0.0,\"#0d0887\"],[0.1111111111111111,\"#46039f\"],[0.2222222222222222,\"#7201a8\"],[0.3333333333333333,\"#9c179e\"],[0.4444444444444444,\"#bd3786\"],[0.5555555555555556,\"#d8576b\"],[0.6666666666666666,\"#ed7953\"],[0.7777777777777778,\"#fb9f3a\"],[0.8888888888888888,\"#fdca26\"],[1.0,\"#f0f921\"]],\"diverging\":[[0,\"#8e0152\"],[0.1,\"#c51b7d\"],[0.2,\"#de77ae\"],[0.3,\"#f1b6da\"],[0.4,\"#fde0ef\"],[0.5,\"#f7f7f7\"],[0.6,\"#e6f5d0\"],[0.7,\"#b8e186\"],[0.8,\"#7fbc41\"],[0.9,\"#4d9221\"],[1,\"#276419\"]]},\"xaxis\":{\"gridcolor\":\"white\",\"linecolor\":\"white\",\"ticks\":\"\",\"title\":{\"standoff\":15},\"zerolinecolor\":\"white\",\"automargin\":true,\"zerolinewidth\":2},\"yaxis\":{\"gridcolor\":\"white\",\"linecolor\":\"white\",\"ticks\":\"\",\"title\":{\"standoff\":15},\"zerolinecolor\":\"white\",\"automargin\":true,\"zerolinewidth\":2},\"scene\":{\"xaxis\":{\"backgroundcolor\":\"#E5ECF6\",\"gridcolor\":\"white\",\"linecolor\":\"white\",\"showbackground\":true,\"ticks\":\"\",\"zerolinecolor\":\"white\",\"gridwidth\":2},\"yaxis\":{\"backgroundcolor\":\"#E5ECF6\",\"gridcolor\":\"white\",\"linecolor\":\"white\",\"showbackground\":true,\"ticks\":\"\",\"zerolinecolor\":\"white\",\"gridwidth\":2},\"zaxis\":{\"backgroundcolor\":\"#E5ECF6\",\"gridcolor\":\"white\",\"linecolor\":\"white\",\"showbackground\":true,\"ticks\":\"\",\"zerolinecolor\":\"white\",\"gridwidth\":2}},\"shapedefaults\":{\"line\":{\"color\":\"#2a3f5f\"}},\"annotationdefaults\":{\"arrowcolor\":\"#2a3f5f\",\"arrowhead\":0,\"arrowwidth\":1},\"geo\":{\"bgcolor\":\"white\",\"landcolor\":\"#E5ECF6\",\"subunitcolor\":\"white\",\"showland\":true,\"showlakes\":true,\"lakecolor\":\"white\"},\"title\":{\"x\":0.05},\"mapbox\":{\"style\":\"light\"}}},\"xaxis\":{\"anchor\":\"y\",\"domain\":[0.0,1.0],\"title\":{\"text\":\"x\"}},\"yaxis\":{\"anchor\":\"x\",\"domain\":[0.0,1.0],\"title\":{\"text\":\"y\"}},\"legend\":{\"tracegroupgap\":0},\"margin\":{\"t\":60}},                        {\"responsive\": true}                    ).then(function(){\n",
              "                            \n",
              "var gd = document.getElementById('c6ea1a59-75de-4565-9fb3-22fda793f37f');\n",
              "var x = new MutationObserver(function (mutations, observer) {{\n",
              "        var display = window.getComputedStyle(gd).display;\n",
              "        if (!display || display === 'none') {{\n",
              "            console.log([gd, 'removed!']);\n",
              "            Plotly.purge(gd);\n",
              "            observer.disconnect();\n",
              "        }}\n",
              "}});\n",
              "\n",
              "// Listen for the removal of the full notebook cells\n",
              "var notebookContainer = gd.closest('#notebook-container');\n",
              "if (notebookContainer) {{\n",
              "    x.observe(notebookContainer, {childList: true});\n",
              "}}\n",
              "\n",
              "// Listen for the clearing of the current output cell\n",
              "var outputEl = gd.closest('.output');\n",
              "if (outputEl) {{\n",
              "    x.observe(outputEl, {childList: true});\n",
              "}}\n",
              "\n",
              "                        })                };                            </script>        </div>\n",
              "</body>\n",
              "</html>"
            ]
          },
          "metadata": {}
        }
      ],
      "source": [
        "# Graficar los embedddings en 2D\n",
        "import plotly.graph_objects as go\n",
        "import plotly.express as px\n",
        "\n",
        "vecs, labels = reduce_dimensions(w2v_model)\n",
        "\n",
        "MAX_WORDS=200\n",
        "fig = px.scatter(x=vecs[:MAX_WORDS,0], y=vecs[:MAX_WORDS,1], text=labels[:MAX_WORDS])\n",
        "fig.show(renderer=\"colab\") # esto para plotly en colab"
      ]
    },
    {
      "cell_type": "code",
      "execution_count": 53,
      "metadata": {
        "id": "Dm57qJ8lY5_e",
        "colab": {
          "base_uri": "https://localhost:8080/",
          "height": 542
        },
        "outputId": "f94f7fad-0405-436d-baa7-25dbc6b8cefa"
      },
      "outputs": [
        {
          "output_type": "display_data",
          "data": {
            "text/html": [
              "<html>\n",
              "<head><meta charset=\"utf-8\" /></head>\n",
              "<body>\n",
              "    <div>            <script src=\"https://cdnjs.cloudflare.com/ajax/libs/mathjax/2.7.5/MathJax.js?config=TeX-AMS-MML_SVG\"></script><script type=\"text/javascript\">if (window.MathJax && window.MathJax.Hub && window.MathJax.Hub.Config) {window.MathJax.Hub.Config({SVG: {font: \"STIX-Web\"}});}</script>                <script type=\"text/javascript\">window.PlotlyConfig = {MathJaxConfig: 'local'};</script>\n",
              "        <script charset=\"utf-8\" src=\"https://cdn.plot.ly/plotly-2.35.2.min.js\"></script>                <div id=\"5648e52d-23a2-4fd4-98a4-f913ce1e91ae\" class=\"plotly-graph-div\" style=\"height:525px; width:100%;\"></div>            <script type=\"text/javascript\">                                    window.PLOTLYENV=window.PLOTLYENV || {};                                    if (document.getElementById(\"5648e52d-23a2-4fd4-98a4-f913ce1e91ae\")) {                    Plotly.newPlot(                        \"5648e52d-23a2-4fd4-98a4-f913ce1e91ae\",                        [{\"hovertemplate\":\"x=%{x}\\u003cbr\\u003ey=%{y}\\u003cbr\\u003ez=%{z}\\u003cbr\\u003etext=%{text}\\u003cextra\\u003e\\u003c\\u002fextra\\u003e\",\"legendgroup\":\"\",\"marker\":{\"color\":\"#636efa\",\"symbol\":\"circle\",\"size\":2},\"mode\":\"markers+text\",\"name\":\"\",\"scene\":\"scene\",\"showlegend\":false,\"text\":[\"enemigo\",\"son\",\"terreno\",\"con\",\"tropas\",\"soldados\",\"ser\",\"puede\",\"ejército\",\"están\",\"victoria\",\"sin\",\"batalla\",\"está\",\"fuerza\",\"adversarios\",\"manera\",\"puedes\",\"general\",\"sobre\",\"pueden\",\"militares\",\"fuerzas\",\"significa\",\"hacer\",\"lugar\",\"guerra\",\"enemigos\",\"militar\",\"sun\",\"adversario\",\"sólo\",\"atacar\",\"entre\",\"territorio\",\"ti\",\"tienen\",\"debe\",\"espías\",\"sea\",\"tzu\",\"mismo\",\"ataque\",\"tiene\",\"generales\",\"planes\",\"forma\",\"contra\",\"primero\",\"estrategia\",\"fuego\",\"llama\",\"tiempo\",\"orden\",\"hay\",\"obtener\",\"conocer\",\"órdenes\",\"arte\",\"mediante\",\"hasta\",\"poder\",\"gobierno\",\"bien\",\"ejércitos\",\"mando\",\"pueblo\",\"defensa\",\"otros\",\"ganar\",\"ímpetu\",\"lucha\",\"tener\",\"terrenos\",\"agua\",\"situación\",\"ventaja\",\"conoces\",\"dice\",\"gran\",\"hace\",\"combatir\",\"demás\",\"deben\",\"estás\",\"mucho\",\"peligro\",\"hacia\",\"mundo\",\"capítulo\",\"caso\",\"posición\",\"operaciones\",\"tienes\",\"energía\",\"debes\",\"difícil\",\"recompensas\",\"luchar\",\"capaz\",\"siempre\",\"mejor\",\"existen\",\"eres\",\"consecuencia\",\"quiere\",\"haz\",\"país\",\"cinco\",\"expertos\",\"combate\",\"posible\",\"vencer\",\"camino\",\"cuestión\",\"todas\",\"oficiales\",\"desde\",\"e\",\"suministros\",\"decir\",\"guerreros\",\"formación\",\"ataca\",\"tan\",\"muerte\",\"punto\",\"sean\",\"era\",\"armas\",\"todos\",\"cómo\",\"regla\",\"alimentos\",\"evitar\",\"operación\",\"haya\",\"clases\",\"existe\",\"derrotado\",\"lejos\",\"acción\",\"información\",\"superiores\",\"cerca\",\"seguro\",\"partes\",\"disciplina\",\"ventajas\",\"mitad\",\"príncipe\",\"situaciones\",\"ventajoso\",\"abajo\",\"fuertes\",\"formaciones\",\"viento\",\"menos\",\"campo\",\"vez\",\"totalmente\",\"objetivo\",\"débiles\",\"condiciones\",\"alianzas\",\"problemas\",\"artes\",\"ataques\",\"ya\",\"personas\",\"factores\",\"utilizar\",\"frente\",\"fuerte\",\"necesidad\",\"tres\",\"retaguardia\",\"utilizan\",\"enemigas\",\"cuenta\",\"actuar\",\"trata\",\"cualquier\",\"entrar\",\"muchos\",\"necesario\",\"fácil\",\"carros\",\"beneficio\",\"mortal\",\"cabo\",\"descubrir\",\"kilómetros\",\"condición\",\"momento\",\"leyes\",\"pueda\",\"puntos\",\"provisiones\",\"desorden\"],\"x\":[49.296497,-38.582577,-35.53205,-3.0654876,-15.668091,25.80874,-7.770144,50.04135,41.67828,-33.454758,14.659375,51.375595,-0.6067885,56.420002,64.62801,35.53179,39.909573,34.252666,-53.41759,6.160734,-3.094946,-69.668625,-6.108258,-49.959255,-18.847498,16.801958,-3.0613115,-29.822346,16.90065,31.271343,16.15868,48.748627,40.211983,9.58284,22.923008,43.523453,-2.5676444,19.982206,-31.431679,-11.357336,31.475655,33.10377,-28.964764,47.34216,-34.713993,-51.059628,30.867737,62.962547,23.061798,-5.524568,-48.543842,-7.965869,-24.529118,32.17151,-26.114605,-3.8228295,-21.258785,13.68956,-10.634018,-43.83973,-18.928394,17.020233,5.782639,21.934948,-56.83577,16.72074,29.075214,-28.439358,15.664325,29.034641,63.81147,31.602806,-6.9862466,-36.05772,53.623745,21.242952,-11.78041,38.399174,7.5599566,18.723936,20.29299,3.7339768,38.461735,-57.6976,-19.957365,-46.839317,19.366066,47.4744,16.502506,-26.616932,-1.3646562,25.568022,-64.149254,59.31175,-54.544228,11.732114,-27.783644,-13.179286,55.649014,32.267673,14.5884495,19.38492,-61.342278,29.773556,-13.535088,33.33795,58.20167,-10.381828,-67.054245,-47.98373,6.2103577,-7.1845827,22.331863,-26.397434,20.525682,-34.47627,30.422892,22.272884,30.95013,-13.695256,35.067368,-31.119911,42.383766,48.463295,26.454142,-7.118232,4.6671124,0.1468086,21.006533,-43.26163,-19.735836,30.65716,-56.63297,-45.628616,55.126965,13.830644,-40.871258,-61.096703,-15.056688,9.386815,50.655605,-40.983253,-2.5139406,-29.731472,37.306618,-39.909348,65.89648,24.20539,-8.90259,53.9217,-9.789158,-50.872574,14.880068,48.558853,-15.285055,9.167373,-52.611416,21.178774,29.801027,9.778548,3.4331455,23.819523,-21.466532,-18.701262,-12.511817,-14.525969,-56.808716,-41.200596,-27.167608,11.214343,-35.159737,22.67633,47.053413,35.75403,55.789654,40.1466,57.56744,-28.648256,6.7171774,0.05423678,46.097504,-35.9205,6.398455,-5.5475235,9.776722,-39.886944,6.742244,-8.180143,-26.960701,-21.959253,2.5325987,8.639507,-8.355841,13.019775,9.345053,-62.335613,-13.280677,-28.643787,41.42298,24.81667],\"y\":[-18.624966,-48.033276,40.303635,-22.875092,30.07259,-6.857877,-15.287027,15.027308,-23.557968,-24.544193,40.37515,17.729042,54.782413,-35.56427,-31.875734,37.932926,16.08694,-0.89420867,-23.728003,-58.948296,-28.557219,-32.847195,-30.65939,30.055382,-37.040157,69.26027,4.5172462,-27.420946,-38.779736,16.121271,-9.34643,-9.513538,-19.511038,-43.093674,26.371365,57.016552,35.218224,-37.22448,-40.82866,1.7881154,6.787033,57.366325,-11.569107,-16.460651,-52.33511,19.016987,35.781406,34.671795,-13.817937,-7.073402,-46.280884,54.101032,55.64399,-9.673438,-48.3639,43.521423,-60.595177,-1.9927814,6.635728,-57.415333,12.947087,-17.447441,-30.213902,53.043083,-14.6069145,-35.277817,-38.374596,-2.4981234,-59.4065,16.840694,-18.800478,-37.739098,29.898993,44.513046,41.711437,-57.678696,58.6757,64.81235,28.664047,19.528843,-48.47232,60.385227,66.276054,-11.871439,49.5,38.565212,62.695972,54.863655,23.900793,-20.078913,20.122673,-40.63744,-43.799877,-10.129637,1.7947664,-11.791256,56.27496,29.045652,24.585234,3.3910396,60.8573,-7.2058682,-54.67118,21.725437,-8.708262,-61.713856,30.648457,-41.28334,-47.46814,-3.0438673,41.688156,-49.737865,-16.394709,14.372997,-30.013996,-32.593395,5.358219,55.642704,24.265198,-62.556026,-51.41133,17.360785,26.824228,6.624095,9.7997,-1.6267381,4.211789,39.77655,13.722216,-10.648887,55.579334,39.700417,-29.63888,-28.278715,32.797043,-44.428516,11.4377165,-56.455067,22.125544,-15.87093,-38.81892,-5.7707024,-33.8606,-58.174892,-42.658463,-26.349361,-0.9461778,-41.645004,32.205315,-7.552558,-26.153166,-23.869364,1.2465212,51.91695,36.107906,-25.484581,-35.541626,34.63651,-46.499588,14.50507,-18.31839,45.502407,38.79335,8.15397,-45.25023,-21.495045,8.317181,-59.996502,-21.37605,-41.50468,-56.095375,7.156663,32.737858,-23.017162,9.268836,-30.111526,19.08087,-9.557382,46.95161,21.044363,-34.439507,-0.38565007,25.30872,36.40864,1.8328741,1.1438307,22.208578,25.940554,1.2794471,41.266872,3.4032052,18.086897,71.52987,29.437134,17.085693,-18.396114,-37.962215,37.8213,-11.898575,-15.7917],\"z\":[-29.842838,44.196762,8.232246,-53.989857,25.0022,13.234564,-36.605526,-35.466022,-40.47703,10.09805,-51.171574,-49.790092,24.968254,-28.234003,4.673287,6.8021264,-30.146355,-37.404728,58.622536,7.7593694,-30.834545,44.46731,12.557784,-2.8435752,-20.979837,21.698284,74.21919,-0.57813704,59.002934,58.763187,-33.007374,38.281418,18.63177,-45.99185,1.1083777,28.307734,35.07783,-27.71385,-3.075227,-47.308266,62.838486,35.5098,-59.570732,-49.048424,30.632769,21.843895,-31.45637,-17.366974,-53.10696,56.066048,-14.665265,5.46899,-35.44707,-6.0085316,7.415065,-30.913069,19.424198,6.350453,65.68254,-7.985401,-58.948547,40.714073,27.582472,-14.503619,20.180483,41.335793,-21.004648,-45.802822,-38.188774,-15.552386,0.46502784,22.101475,-63.882725,-30.120365,-12.247742,-17.376635,-24.61128,20.690037,54.61963,-26.076448,-25.695509,-36.747307,32.37058,7.365552,-12.229526,-37.715054,32.153114,0.84089875,-55.43666,59.036636,59.939533,-53.1073,44.150707,21.504852,-20.70388,-46.698288,-1.5266418,-41.83138,-25.034657,-59.37815,-36.063786,26.540195,25.129383,-65.01151,33.091736,-20.305208,16.366644,47.275814,18.365526,46.646206,-21.994915,21.657343,59.048492,-31.908157,-0.6350716,-45.098904,35.244465,4.586598,17.086422,-21.352856,-53.77788,50.315056,-12.359549,-13.088117,-51.23031,-68.679306,-70.25539,18.04427,69.7452,-5.466424,26.049286,26.108828,50.103992,38.51125,-30.035679,51.00849,-2.9840274,15.333753,-4.406144,18.159355,-35.24658,28.74289,-64.83435,40.379856,-42.665264,-26.181137,-22.16284,-39.966457,-17.810305,30.557657,34.382175,10.302009,44.013424,-14.286321,40.639538,-12.485332,-8.553335,-15.172715,3.3579683,36.71214,-26.328888,14.145112,48.171352,10.878466,-26.27148,5.3581467,24.492508,3.9988272,-37.88609,10.946512,17.367073,-38.87931,14.0770855,-28.594824,-48.205387,41.980793,23.017614,8.822659,-5.2658653,-58.075268,-2.0662723,5.925977,1.2035042,2.2663734,-26.177914,-43.390522,-39.067917,11.288413,27.550768,6.019722,36.422997,12.616971,-11.210938,24.509554,56.307087,42.005825,27.155699,38.516483,-22.952951,-14.48514],\"type\":\"scatter3d\"}],                        {\"template\":{\"data\":{\"histogram2dcontour\":[{\"type\":\"histogram2dcontour\",\"colorbar\":{\"outlinewidth\":0,\"ticks\":\"\"},\"colorscale\":[[0.0,\"#0d0887\"],[0.1111111111111111,\"#46039f\"],[0.2222222222222222,\"#7201a8\"],[0.3333333333333333,\"#9c179e\"],[0.4444444444444444,\"#bd3786\"],[0.5555555555555556,\"#d8576b\"],[0.6666666666666666,\"#ed7953\"],[0.7777777777777778,\"#fb9f3a\"],[0.8888888888888888,\"#fdca26\"],[1.0,\"#f0f921\"]]}],\"choropleth\":[{\"type\":\"choropleth\",\"colorbar\":{\"outlinewidth\":0,\"ticks\":\"\"}}],\"histogram2d\":[{\"type\":\"histogram2d\",\"colorbar\":{\"outlinewidth\":0,\"ticks\":\"\"},\"colorscale\":[[0.0,\"#0d0887\"],[0.1111111111111111,\"#46039f\"],[0.2222222222222222,\"#7201a8\"],[0.3333333333333333,\"#9c179e\"],[0.4444444444444444,\"#bd3786\"],[0.5555555555555556,\"#d8576b\"],[0.6666666666666666,\"#ed7953\"],[0.7777777777777778,\"#fb9f3a\"],[0.8888888888888888,\"#fdca26\"],[1.0,\"#f0f921\"]]}],\"heatmap\":[{\"type\":\"heatmap\",\"colorbar\":{\"outlinewidth\":0,\"ticks\":\"\"},\"colorscale\":[[0.0,\"#0d0887\"],[0.1111111111111111,\"#46039f\"],[0.2222222222222222,\"#7201a8\"],[0.3333333333333333,\"#9c179e\"],[0.4444444444444444,\"#bd3786\"],[0.5555555555555556,\"#d8576b\"],[0.6666666666666666,\"#ed7953\"],[0.7777777777777778,\"#fb9f3a\"],[0.8888888888888888,\"#fdca26\"],[1.0,\"#f0f921\"]]}],\"heatmapgl\":[{\"type\":\"heatmapgl\",\"colorbar\":{\"outlinewidth\":0,\"ticks\":\"\"},\"colorscale\":[[0.0,\"#0d0887\"],[0.1111111111111111,\"#46039f\"],[0.2222222222222222,\"#7201a8\"],[0.3333333333333333,\"#9c179e\"],[0.4444444444444444,\"#bd3786\"],[0.5555555555555556,\"#d8576b\"],[0.6666666666666666,\"#ed7953\"],[0.7777777777777778,\"#fb9f3a\"],[0.8888888888888888,\"#fdca26\"],[1.0,\"#f0f921\"]]}],\"contourcarpet\":[{\"type\":\"contourcarpet\",\"colorbar\":{\"outlinewidth\":0,\"ticks\":\"\"}}],\"contour\":[{\"type\":\"contour\",\"colorbar\":{\"outlinewidth\":0,\"ticks\":\"\"},\"colorscale\":[[0.0,\"#0d0887\"],[0.1111111111111111,\"#46039f\"],[0.2222222222222222,\"#7201a8\"],[0.3333333333333333,\"#9c179e\"],[0.4444444444444444,\"#bd3786\"],[0.5555555555555556,\"#d8576b\"],[0.6666666666666666,\"#ed7953\"],[0.7777777777777778,\"#fb9f3a\"],[0.8888888888888888,\"#fdca26\"],[1.0,\"#f0f921\"]]}],\"surface\":[{\"type\":\"surface\",\"colorbar\":{\"outlinewidth\":0,\"ticks\":\"\"},\"colorscale\":[[0.0,\"#0d0887\"],[0.1111111111111111,\"#46039f\"],[0.2222222222222222,\"#7201a8\"],[0.3333333333333333,\"#9c179e\"],[0.4444444444444444,\"#bd3786\"],[0.5555555555555556,\"#d8576b\"],[0.6666666666666666,\"#ed7953\"],[0.7777777777777778,\"#fb9f3a\"],[0.8888888888888888,\"#fdca26\"],[1.0,\"#f0f921\"]]}],\"mesh3d\":[{\"type\":\"mesh3d\",\"colorbar\":{\"outlinewidth\":0,\"ticks\":\"\"}}],\"scatter\":[{\"fillpattern\":{\"fillmode\":\"overlay\",\"size\":10,\"solidity\":0.2},\"type\":\"scatter\"}],\"parcoords\":[{\"type\":\"parcoords\",\"line\":{\"colorbar\":{\"outlinewidth\":0,\"ticks\":\"\"}}}],\"scatterpolargl\":[{\"type\":\"scatterpolargl\",\"marker\":{\"colorbar\":{\"outlinewidth\":0,\"ticks\":\"\"}}}],\"bar\":[{\"error_x\":{\"color\":\"#2a3f5f\"},\"error_y\":{\"color\":\"#2a3f5f\"},\"marker\":{\"line\":{\"color\":\"#E5ECF6\",\"width\":0.5},\"pattern\":{\"fillmode\":\"overlay\",\"size\":10,\"solidity\":0.2}},\"type\":\"bar\"}],\"scattergeo\":[{\"type\":\"scattergeo\",\"marker\":{\"colorbar\":{\"outlinewidth\":0,\"ticks\":\"\"}}}],\"scatterpolar\":[{\"type\":\"scatterpolar\",\"marker\":{\"colorbar\":{\"outlinewidth\":0,\"ticks\":\"\"}}}],\"histogram\":[{\"marker\":{\"pattern\":{\"fillmode\":\"overlay\",\"size\":10,\"solidity\":0.2}},\"type\":\"histogram\"}],\"scattergl\":[{\"type\":\"scattergl\",\"marker\":{\"colorbar\":{\"outlinewidth\":0,\"ticks\":\"\"}}}],\"scatter3d\":[{\"type\":\"scatter3d\",\"line\":{\"colorbar\":{\"outlinewidth\":0,\"ticks\":\"\"}},\"marker\":{\"colorbar\":{\"outlinewidth\":0,\"ticks\":\"\"}}}],\"scattermapbox\":[{\"type\":\"scattermapbox\",\"marker\":{\"colorbar\":{\"outlinewidth\":0,\"ticks\":\"\"}}}],\"scatterternary\":[{\"type\":\"scatterternary\",\"marker\":{\"colorbar\":{\"outlinewidth\":0,\"ticks\":\"\"}}}],\"scattercarpet\":[{\"type\":\"scattercarpet\",\"marker\":{\"colorbar\":{\"outlinewidth\":0,\"ticks\":\"\"}}}],\"carpet\":[{\"aaxis\":{\"endlinecolor\":\"#2a3f5f\",\"gridcolor\":\"white\",\"linecolor\":\"white\",\"minorgridcolor\":\"white\",\"startlinecolor\":\"#2a3f5f\"},\"baxis\":{\"endlinecolor\":\"#2a3f5f\",\"gridcolor\":\"white\",\"linecolor\":\"white\",\"minorgridcolor\":\"white\",\"startlinecolor\":\"#2a3f5f\"},\"type\":\"carpet\"}],\"table\":[{\"cells\":{\"fill\":{\"color\":\"#EBF0F8\"},\"line\":{\"color\":\"white\"}},\"header\":{\"fill\":{\"color\":\"#C8D4E3\"},\"line\":{\"color\":\"white\"}},\"type\":\"table\"}],\"barpolar\":[{\"marker\":{\"line\":{\"color\":\"#E5ECF6\",\"width\":0.5},\"pattern\":{\"fillmode\":\"overlay\",\"size\":10,\"solidity\":0.2}},\"type\":\"barpolar\"}],\"pie\":[{\"automargin\":true,\"type\":\"pie\"}]},\"layout\":{\"autotypenumbers\":\"strict\",\"colorway\":[\"#636efa\",\"#EF553B\",\"#00cc96\",\"#ab63fa\",\"#FFA15A\",\"#19d3f3\",\"#FF6692\",\"#B6E880\",\"#FF97FF\",\"#FECB52\"],\"font\":{\"color\":\"#2a3f5f\"},\"hovermode\":\"closest\",\"hoverlabel\":{\"align\":\"left\"},\"paper_bgcolor\":\"white\",\"plot_bgcolor\":\"#E5ECF6\",\"polar\":{\"bgcolor\":\"#E5ECF6\",\"angularaxis\":{\"gridcolor\":\"white\",\"linecolor\":\"white\",\"ticks\":\"\"},\"radialaxis\":{\"gridcolor\":\"white\",\"linecolor\":\"white\",\"ticks\":\"\"}},\"ternary\":{\"bgcolor\":\"#E5ECF6\",\"aaxis\":{\"gridcolor\":\"white\",\"linecolor\":\"white\",\"ticks\":\"\"},\"baxis\":{\"gridcolor\":\"white\",\"linecolor\":\"white\",\"ticks\":\"\"},\"caxis\":{\"gridcolor\":\"white\",\"linecolor\":\"white\",\"ticks\":\"\"}},\"coloraxis\":{\"colorbar\":{\"outlinewidth\":0,\"ticks\":\"\"}},\"colorscale\":{\"sequential\":[[0.0,\"#0d0887\"],[0.1111111111111111,\"#46039f\"],[0.2222222222222222,\"#7201a8\"],[0.3333333333333333,\"#9c179e\"],[0.4444444444444444,\"#bd3786\"],[0.5555555555555556,\"#d8576b\"],[0.6666666666666666,\"#ed7953\"],[0.7777777777777778,\"#fb9f3a\"],[0.8888888888888888,\"#fdca26\"],[1.0,\"#f0f921\"]],\"sequentialminus\":[[0.0,\"#0d0887\"],[0.1111111111111111,\"#46039f\"],[0.2222222222222222,\"#7201a8\"],[0.3333333333333333,\"#9c179e\"],[0.4444444444444444,\"#bd3786\"],[0.5555555555555556,\"#d8576b\"],[0.6666666666666666,\"#ed7953\"],[0.7777777777777778,\"#fb9f3a\"],[0.8888888888888888,\"#fdca26\"],[1.0,\"#f0f921\"]],\"diverging\":[[0,\"#8e0152\"],[0.1,\"#c51b7d\"],[0.2,\"#de77ae\"],[0.3,\"#f1b6da\"],[0.4,\"#fde0ef\"],[0.5,\"#f7f7f7\"],[0.6,\"#e6f5d0\"],[0.7,\"#b8e186\"],[0.8,\"#7fbc41\"],[0.9,\"#4d9221\"],[1,\"#276419\"]]},\"xaxis\":{\"gridcolor\":\"white\",\"linecolor\":\"white\",\"ticks\":\"\",\"title\":{\"standoff\":15},\"zerolinecolor\":\"white\",\"automargin\":true,\"zerolinewidth\":2},\"yaxis\":{\"gridcolor\":\"white\",\"linecolor\":\"white\",\"ticks\":\"\",\"title\":{\"standoff\":15},\"zerolinecolor\":\"white\",\"automargin\":true,\"zerolinewidth\":2},\"scene\":{\"xaxis\":{\"backgroundcolor\":\"#E5ECF6\",\"gridcolor\":\"white\",\"linecolor\":\"white\",\"showbackground\":true,\"ticks\":\"\",\"zerolinecolor\":\"white\",\"gridwidth\":2},\"yaxis\":{\"backgroundcolor\":\"#E5ECF6\",\"gridcolor\":\"white\",\"linecolor\":\"white\",\"showbackground\":true,\"ticks\":\"\",\"zerolinecolor\":\"white\",\"gridwidth\":2},\"zaxis\":{\"backgroundcolor\":\"#E5ECF6\",\"gridcolor\":\"white\",\"linecolor\":\"white\",\"showbackground\":true,\"ticks\":\"\",\"zerolinecolor\":\"white\",\"gridwidth\":2}},\"shapedefaults\":{\"line\":{\"color\":\"#2a3f5f\"}},\"annotationdefaults\":{\"arrowcolor\":\"#2a3f5f\",\"arrowhead\":0,\"arrowwidth\":1},\"geo\":{\"bgcolor\":\"white\",\"landcolor\":\"#E5ECF6\",\"subunitcolor\":\"white\",\"showland\":true,\"showlakes\":true,\"lakecolor\":\"white\"},\"title\":{\"x\":0.05},\"mapbox\":{\"style\":\"light\"}}},\"scene\":{\"domain\":{\"x\":[0.0,1.0],\"y\":[0.0,1.0]},\"xaxis\":{\"title\":{\"text\":\"x\"}},\"yaxis\":{\"title\":{\"text\":\"y\"}},\"zaxis\":{\"title\":{\"text\":\"z\"}}},\"legend\":{\"tracegroupgap\":0},\"margin\":{\"t\":60}},                        {\"responsive\": true}                    ).then(function(){\n",
              "                            \n",
              "var gd = document.getElementById('5648e52d-23a2-4fd4-98a4-f913ce1e91ae');\n",
              "var x = new MutationObserver(function (mutations, observer) {{\n",
              "        var display = window.getComputedStyle(gd).display;\n",
              "        if (!display || display === 'none') {{\n",
              "            console.log([gd, 'removed!']);\n",
              "            Plotly.purge(gd);\n",
              "            observer.disconnect();\n",
              "        }}\n",
              "}});\n",
              "\n",
              "// Listen for the removal of the full notebook cells\n",
              "var notebookContainer = gd.closest('#notebook-container');\n",
              "if (notebookContainer) {{\n",
              "    x.observe(notebookContainer, {childList: true});\n",
              "}}\n",
              "\n",
              "// Listen for the clearing of the current output cell\n",
              "var outputEl = gd.closest('.output');\n",
              "if (outputEl) {{\n",
              "    x.observe(outputEl, {childList: true});\n",
              "}}\n",
              "\n",
              "                        })                };                            </script>        </div>\n",
              "</body>\n",
              "</html>"
            ]
          },
          "metadata": {}
        }
      ],
      "source": [
        "# Graficar los embedddings en 3D\n",
        "\n",
        "vecs, labels = reduce_dimensions(w2v_model,3)\n",
        "\n",
        "fig = px.scatter_3d(x=vecs[:MAX_WORDS,0], y=vecs[:MAX_WORDS,1], z=vecs[:MAX_WORDS,2],text=labels[:MAX_WORDS])\n",
        "fig.update_traces(marker_size = 2)\n",
        "fig.show(renderer=\"colab\") # esto para plotly en colab"
      ]
    },
    {
      "cell_type": "markdown",
      "source": [
        "###Ensayos adicionales"
      ],
      "metadata": {
        "id": "0kn2pZ1UAqH1"
      }
    },
    {
      "cell_type": "code",
      "source": [
        "# TEST DE ANALOGÍAS\n",
        "# ===============================\n",
        "analogias = [\n",
        "\n",
        "      ['batalla', 'soldados', 'guerra'],\n",
        "\n",
        "]\n",
        "\n",
        "\n",
        "print(\"=== Resultados de analogías ===\")\n",
        "for triple in analogias:\n",
        "    a, b, c = triple\n",
        "    try:\n",
        "        resultado = w2v_model.wv.most_similar(positive=[a, c], negative=[b], topn=3)\n",
        "        print(f\"\\n{a} - {b} + {c} ≈ ?\")\n",
        "        for palabra, score in resultado:\n",
        "            print(f\"  {palabra} ({score:.3f})\")\n",
        "    except KeyError as e:\n",
        "        print(f\"\\n❌ Palabra no encontrada en el vocabulario: {e}\")"
      ],
      "metadata": {
        "colab": {
          "base_uri": "https://localhost:8080/"
        },
        "id": "dP7tQn-2ca4G",
        "outputId": "4672a8b5-1240-4746-c396-d0f36a89e918"
      },
      "execution_count": 54,
      "outputs": [
        {
          "output_type": "stream",
          "name": "stdout",
          "text": [
            "=== Resultados de analogías ===\n",
            "\n",
            "batalla - soldados + guerra ≈ ?\n",
            "  arte (0.937)\n",
            "  dice (0.926)\n",
            "  rey (0.922)\n"
          ]
        }
      ]
    },
    {
      "cell_type": "code",
      "source": [
        "\n",
        "from sklearn.metrics.pairwise import cosine_similarity\n",
        "\n",
        "# Lista de palabras a comparar\n",
        "palabras_analogia = ['batalla', 'soldados', 'guerra', 'arte', 'rey']\n",
        "\n",
        "# Filtrar palabras que estén en el vocabulario del modelo\n",
        "palabras_validas = [w for w in palabras_analogia if w in w2v_model.wv]\n",
        "\n",
        "# Obtener vectores\n",
        "vectores = np.array([w2v_model.wv[w] for w in palabras_validas])\n",
        "\n",
        "# Calcular similitud de coseno entre pares de palabras\n",
        "matriz_similitud = cosine_similarity(vectores)\n",
        "\n",
        "# Función para graficar matriz de similitud\n",
        "def plot_matrix_distance(words, matrix):\n",
        "    plt.figure(figsize=(8, 6))\n",
        "    sns.heatmap(matrix, xticklabels=words, yticklabels=words, annot=True, cmap='Blues', square=True)\n",
        "    plt.title(\"Matriz de Similitud de Coseno entre Palabras\")\n",
        "    plt.xticks(rotation=45)\n",
        "    plt.yticks(rotation=0)\n",
        "    plt.tight_layout()\n",
        "    plt.show()\n",
        "\n",
        "# Graficar\n",
        "plot_matrix_distance(palabras_validas, matriz_similitud)\n"
      ],
      "metadata": {
        "colab": {
          "base_uri": "https://localhost:8080/",
          "height": 607
        },
        "id": "r4pgWUGN-hv1",
        "outputId": "e7a7b4aa-7f41-40ae-954a-28048e60f8df"
      },
      "execution_count": 55,
      "outputs": [
        {
          "output_type": "display_data",
          "data": {
            "text/plain": [
              "<Figure size 800x600 with 2 Axes>"
            ],
            "image/png": "[encoded data removed]"
          },
          "metadata": {}
        }
      ]
    },
    {
      "cell_type": "markdown",
      "source": [
        "## Conclusiones\n",
        "\n",
        "Es fundamental poder realizar siempre un buen trabajo de preprocesamiento de los datos. Para ello, se eliminaron los saltos de línea (\\n) y espacios en blanco y además se sacaron todos los pronombres, conectores que creaban ruido en el corpus.\n",
        "Luego se hicieron distintas pruebas de similitud con varias palabras clave. En general los resultados fueron muy buenos. Se probó también con una palabra (\"nube\" ) que no pertenece al corpus.\n",
        "\n",
        "Se graficaron los embeddings en 2D y 3D para ver relaciones entre las palabras.\n",
        "Se observan agrupaciones de palabras con significados relacionados, lo cual indica que el modelo captó relaciones semánticas.\n",
        "\n",
        "Por ejemplo:\n",
        "\n",
        "Cerca de \"batalla\", \"frente\", \"enemigas\", \"tropas\", \"victoria\", etc., hay un grupo relacionado con el combate.\n",
        "\n",
        "Otro grupo alrededor de \"generales\", \"oficiales\", \"legiones\", \"tropas\", \"formación\" que sugiere un contexto militar jerárquico.\n",
        "\n",
        "Palabras como \"energía\", \"defensa\", \"ataque\", \"fuego\", \"punto\" se agrupan en torno a conceptos de estrategia y movimiento.\n",
        "\n",
        "\"general\", \"oficiales\", \"príncipe\" están cercanas a palabras como \"gobierno\", \"superiores\", \"órdenes\", lo que sugiere que el modelo entendió relaciones de autoridad o rol.\n",
        "\n",
        "\"enemigo\", \"ataca\", \"adversario\", \"vence\" están en regiones próximas → relación causa-efecto o acción-reacción.\n",
        "\n",
        "Finalmente hicimos un test de analogia con operaciones con embeddings.\n",
        " En la matriz de similitud vemos que las similitudes  son muy altas (≥ 0.95): guerra –arte (0.96)\n",
        "\n",
        "guerra – rey (0.96)\n",
        "\n",
        "arte – rey (0.95)\n",
        "\n",
        "Esto sugiere que en el corpus o modelo usado, \"arte\" aparece en un contexto más militar o estratégico (como \"el arte de la guerra\", por ejemplo), no en sentido estético.\n",
        "\n",
        "\"batalla\" y \"soldados\" (0.96):\n",
        "Es lógico: ambas se relacionan estrechamente con combate, guerra, conflicto.\n",
        "\n",
        " \"batalla\" tiene similitud ligeramente menor con \"guerra\" (0.87):\n",
        "Podría parecer contraintuitivo, pero esto ocurre porque:\n",
        "\n",
        "\"batalla\" es un evento específico,\n",
        "\n",
        "\"guerra\" es más general o abstracto,\n",
        "\n",
        "Puede haber diferencias de uso en el corpus.\n",
        "\n",
        "Todas las palabras están altamente relacionadas (todos los valores ≥ 0.87):\n",
        "Esto indica que el modelo aprendió correctamente asociaciones semánticas y que estas palabras aparecen en contextos similares.\n",
        "\n",
        "✅ Conclusión general:\n",
        "El modelo de embeddings ( Word2Vec) capturó bien las relaciones semánticas entre conceptos militares e históricos. Incluso “arte” se relaciona fuertemente con “guerra” y “rey”, lo cual puede deberse a expresiones como “el arte de gobernar”, “el arte de la guerra”, etc.\n",
        "\n"
      ],
      "metadata": {
        "id": "8yBDztqGA6J1"
      }
    }
  ],
  "metadata": {
    "colab": {
      "provenance": []
    },
    "kernelspec": {
      "display_name": "Python 3",
      "name": "python3"
    },
    "language_info": {
      "codemirror_mode": {
        "name": "ipython",
        "version": 3
      },
      "file_extension": ".py",
      "mimetype": "text/x-python",
      "name": "python",
      "nbconvert_exporter": "python",
      "pygments_lexer": "ipython3",
      "version": "3.10.6"
    }
  },
  "nbformat": 4,
  "nbformat_minor": 0
}